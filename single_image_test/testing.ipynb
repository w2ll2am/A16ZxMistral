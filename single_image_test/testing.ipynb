{
 "cells": [
  {
   "cell_type": "code",
   "execution_count": 1,
   "metadata": {},
   "outputs": [],
   "source": [
    "\n",
    "# !pip install asyncio\n",
    "# !pip install nest-asyncio\n",
    "# !pip install pandas\n",
    "# !pip install tqdm"
   ]
  },
  {
   "cell_type": "code",
   "execution_count": 2,
   "metadata": {},
   "outputs": [],
   "source": [
    "# API_KEY = \"zgJAdEg3lkVxGXyEtM89tOZplOsTi8bv\" # Personal\n",
    "API_KEY = \"pqmKVrIjJjkKQMhvRslPapP7QzNV2A1I\"# Hackathon\n",
    "notebook_dir = \"C:\\\\Users\\\\William\\\\Documents\\\\ML\\\\a16z Hackathon\\\\A16ZxMistral\\\\single_image_test\"\n",
    "image_foler = \"images\"\n",
    "images_dir = f\"{notebook_dir}/{image_foler}\""
   ]
  },
  {
   "cell_type": "code",
   "execution_count": 3,
   "metadata": {},
   "outputs": [],
   "source": [
    "\n",
    "import os\n",
    "from mistralai import Mistral\n",
    "import base64\n",
    "import asyncio\n",
    "import nest_asyncio\n",
    "nest_asyncio.apply()\n",
    "import time\n",
    "from tqdm.notebook import tqdm\n",
    "\n",
    "model = \"pixtral-12b-latest\"\n",
    "client = Mistral(api_key=API_KEY)"
   ]
  },
  {
   "cell_type": "code",
   "execution_count": 4,
   "metadata": {},
   "outputs": [],
   "source": [
    "def encode_image_base64(image_path):\n",
    "  with open(image_path, \"rb\") as image_file:\n",
    "    return base64.b64encode(image_file.read()).decode(\"utf-8\")\n",
    "\n"
   ]
  },
  {
   "cell_type": "code",
   "execution_count": 5,
   "metadata": {},
   "outputs": [
    {
     "name": "stdout",
     "output_type": "stream",
     "text": [
      "['Crowd.png', 'Fire.png', 'Line of Police.png', 'Line of Protesters.png', 'No Crowd.png', 'No FIre.png', 'No tags.png', 'small images.zip', 'Smoke.png']\n"
     ]
    }
   ],
   "source": [
    "files = os.listdir(images_dir)\n",
    "print(files)\n",
    "encoded_images = [encode_image_base64(f\"{images_dir}/{file}\") for file in files]\n",
    "prompts = [\n",
    "\t{\n",
    "\t\t\"name\": \"fire\",\n",
    "\t\t\"prompt\": \"Do you see fire in this image? If so return 'True' otherwise return 'False' without the quotation marks.\"\n",
    "\t},\n",
    "\t{\n",
    "\t\t\"name\": \"smoke\",\n",
    "\t\t\"prompt\": \"Do you see dense smoke in the iamge ? If so return 'True' otherwise return 'False' without the quotation marks.\"\n",
    "\t},\n",
    "\t{\n",
    "\t\t\"name\": \"police\",\n",
    "\t\t\"prompt\": \"Do you see police or law enforcement present in the image? If so return 'True' otherwise return 'False' without the quotation marks.\"\n",
    "\t},\n",
    "\t{\n",
    "\t\t\"name\": \"Formations\",\n",
    "\t\t\"prompt\": \"Do you see people orginised in formations e.g. standing in organised lines? If so return 'True' otherwise return 'False' without the quotation marks.\"\n",
    "\t},\n",
    "\t{\n",
    "\t\t\"name\": \"crowds\",\n",
    "\t\t\"prompt\": \"Do you see any crowds of people of 20 or more? If so return 'True' otherwise return 'False' without the quotation marks.\"\n",
    "\t},\n",
    "\t{\n",
    "\t\t\"name\": \"crush\",\n",
    "\t\t\"prompt\": \"Do you see any dense crowds of more than 60 people, that could be dangerous to vunerable people? If so return 'True' otherwise return 'False' without the quotation marks.\"\n",
    "\t},\n",
    "]\n",
    "\n"
   ]
  },
  {
   "cell_type": "code",
   "execution_count": 6,
   "metadata": {},
   "outputs": [],
   "source": [
    "\n",
    "async def get_pixtral_reponse(encoded_image, prompt):\n",
    "    print(f\"Prompt: {prompt['name']}\")\n",
    "    try_number = 0\n",
    "    while True: \n",
    "        try:\n",
    "            start = time.time()\n",
    "            chat_response = await asyncio.to_thread(\n",
    "                client.chat.complete,  # Run blocking call in a separate thread\n",
    "                model=model,\n",
    "                messages=[\n",
    "                    {\n",
    "                        \"role\": \"user\",\n",
    "                        \"content\": [\n",
    "                            {\n",
    "                                \"type\": \"text\",\n",
    "                                \"text\": f\"{prompt['prompt']}\"\n",
    "                            },\n",
    "                            {\n",
    "                                \"type\": \"image_url\",\n",
    "                                \"image_url\": f\"data:image/png;base64,{encoded_image}\"\n",
    "                            },\n",
    "                        ]\n",
    "                    },\n",
    "                ]\n",
    "            )\n",
    "            response = chat_response.choices[0].message.content\n",
    "            end = time.time()\n",
    "            print(f\"Attempt: {try_number} Time {end - start:.2f}s\")\n",
    "            break\n",
    "        except Exception as e: \n",
    "            print(f\"Error: {e}, retrying... Attempt: {try_number}\")\n",
    "            try_number += 1\n",
    "            await asyncio.sleep(1)  # Introduce a short delay before retrying\n",
    "    return response\n",
    "\n",
    "async def analyse_image(encoded_image, prompts):\n",
    "    coroutines = [\n",
    "        get_pixtral_reponse(encoded_image, prompt) \n",
    "        for prompt in tqdm(prompts)\n",
    "    ]\n",
    "    results = await asyncio.gather(*coroutines)\n",
    "    return results\n",
    "\n",
    "async def analyse_images(encoded_images, prompts):\n",
    "    coroutines = [\n",
    "        analyse_image(encoded_image, prompts) \n",
    "        for encoded_image in tqdm(encoded_images)\n",
    "    ]\n",
    "    results = await asyncio.gather(*coroutines)\n",
    "    return results"
   ]
  },
  {
   "cell_type": "code",
   "execution_count": 7,
   "metadata": {},
   "outputs": [
    {
     "name": "stdout",
     "output_type": "stream",
     "text": [
      "Prompt: fire\n",
      "Attempt: 0 Time 1.94s\n",
      "False\n"
     ]
    }
   ],
   "source": [
    "single_result = await get_pixtral_reponse(encoded_images[0], prompts[0])\n",
    "print(single_result )"
   ]
  },
  {
   "cell_type": "code",
   "execution_count": 8,
   "metadata": {},
   "outputs": [
    {
     "data": {
      "application/vnd.jupyter.widget-view+json": {
       "model_id": "6bee43e6b9eb441780abc9e467d0ca24",
       "version_major": 2,
       "version_minor": 0
      },
      "text/plain": [
       "  0%|          | 0/6 [00:00<?, ?it/s]"
      ]
     },
     "metadata": {},
     "output_type": "display_data"
    },
    {
     "name": "stdout",
     "output_type": "stream",
     "text": [
      "Prompt: fire\n",
      "Prompt: smoke\n",
      "Prompt: police\n",
      "Prompt: Formations\n",
      "Prompt: crowds\n",
      "Prompt: crush\n",
      "Error: Server disconnected without sending a response., retrying... Attempt: 0\n",
      "Error: Server disconnected without sending a response., retrying... Attempt: 0\n",
      "Error: Server disconnected without sending a response., retrying... Attempt: 0\n",
      "Error: Server disconnected without sending a response., retrying... Attempt: 1\n",
      "Attempt: 0 Time 1.94s\n",
      "Attempt: 0 Time 2.46s\n",
      "Attempt: 0 Time 2.69s\n",
      "Error: Server disconnected without sending a response., retrying... Attempt: 2\n",
      "Attempt: 1 Time 1.76s\n",
      "Attempt: 1 Time 1.99s\n",
      "Attempt: 3 Time 2.04s\n"
     ]
    },
    {
     "data": {
      "application/vnd.jupyter.widget-view+json": {
       "model_id": "bab885b2e31a44cebf7b11f427f3256a",
       "version_major": 2,
       "version_minor": 0
      },
      "text/plain": [
       "  0%|          | 0/6 [00:00<?, ?it/s]"
      ]
     },
     "metadata": {},
     "output_type": "display_data"
    },
    {
     "name": "stdout",
     "output_type": "stream",
     "text": [
      "Prompt: fire\n",
      "Prompt: smoke\n",
      "Prompt: police\n",
      "Prompt: Formations\n",
      "Prompt: crowds\n",
      "Prompt: crush\n",
      "Error: Server disconnected without sending a response., retrying... Attempt: 0\n",
      "Error: Server disconnected without sending a response., retrying... Attempt: 0\n",
      "Error: [SSL: SSLV3_ALERT_BAD_RECORD_MAC] sslv3 alert bad record mac (_ssl.c:2578), retrying... Attempt: 0\n",
      "Error: Server disconnected without sending a response., retrying... Attempt: 1\n",
      "Attempt: 0 Time 2.11s\n",
      "Attempt: 0 Time 2.86s\n",
      "Attempt: 0 Time 2.99s\n",
      "Attempt: 1 Time 2.57s\n",
      "Attempt: 1 Time 2.57s\n",
      "Attempt: 2 Time 1.75s\n"
     ]
    },
    {
     "data": {
      "application/vnd.jupyter.widget-view+json": {
       "model_id": "088b990bafdb4666a67399b8aa302cbc",
       "version_major": 2,
       "version_minor": 0
      },
      "text/plain": [
       "  0%|          | 0/6 [00:00<?, ?it/s]"
      ]
     },
     "metadata": {},
     "output_type": "display_data"
    },
    {
     "name": "stdout",
     "output_type": "stream",
     "text": [
      "Prompt: fire\n",
      "Prompt: smoke\n",
      "Prompt: police\n",
      "Prompt: Formations\n",
      "Prompt: crowds\n",
      "Prompt: crush\n",
      "Error: Server disconnected without sending a response., retrying... Attempt: 0\n",
      "Error: [SSL: SSLV3_ALERT_BAD_RECORD_MAC] sslv3 alert bad record mac (_ssl.c:2578), retrying... Attempt: 0\n",
      "Error: [SSL: SSLV3_ALERT_BAD_RECORD_MAC] sslv3 alert bad record mac (_ssl.c:2578), retrying... Attempt: 1\n",
      "Attempt: 0 Time 2.16s\n",
      "Attempt: 0 Time 2.39s\n",
      "Attempt: 0 Time 2.43s\n",
      "Attempt: 0 Time 2.56s\n",
      "Error: Server disconnected without sending a response., retrying... Attempt: 2\n",
      "Attempt: 1 Time 2.06s\n",
      "Error: [SSL: SSLV3_ALERT_BAD_RECORD_MAC] sslv3 alert bad record mac (_ssl.c:2578), retrying... Attempt: 3\n",
      "Attempt: 4 Time 1.83s\n"
     ]
    },
    {
     "data": {
      "application/vnd.jupyter.widget-view+json": {
       "model_id": "68c8a5b0e7d541bf929facd92d65d92f",
       "version_major": 2,
       "version_minor": 0
      },
      "text/plain": [
       "  0%|          | 0/6 [00:00<?, ?it/s]"
      ]
     },
     "metadata": {},
     "output_type": "display_data"
    },
    {
     "name": "stdout",
     "output_type": "stream",
     "text": [
      "Prompt: fire\n",
      "Prompt: smoke\n",
      "Prompt: police\n",
      "Prompt: Formations\n",
      "Prompt: crowds\n",
      "Prompt: crush\n",
      "Error: Server disconnected without sending a response., retrying... Attempt: 0\n",
      "Error: Server disconnected without sending a response., retrying... Attempt: 0\n",
      "Error: Server disconnected without sending a response., retrying... Attempt: 1\n",
      "Attempt: 0 Time 2.47s\n",
      "Attempt: 0 Time 2.49s\n",
      "Attempt: 0 Time 3.05s\n",
      "Attempt: 1 Time 1.87s\n",
      "Error: Server disconnected without sending a response., retrying... Attempt: 2\n",
      "Attempt: 0 Time 3.99s\n",
      "Error: Server disconnected without sending a response., retrying... Attempt: 3\n",
      "Attempt: 4 Time 1.55s\n"
     ]
    },
    {
     "data": {
      "application/vnd.jupyter.widget-view+json": {
       "model_id": "bd6f1a990c4c4e9f9c4e3ad4170667c6",
       "version_major": 2,
       "version_minor": 0
      },
      "text/plain": [
       "  0%|          | 0/6 [00:00<?, ?it/s]"
      ]
     },
     "metadata": {},
     "output_type": "display_data"
    },
    {
     "name": "stdout",
     "output_type": "stream",
     "text": [
      "Prompt: fire\n",
      "Prompt: smoke\n",
      "Prompt: police\n",
      "Prompt: Formations\n",
      "Prompt: crowds\n",
      "Prompt: crush\n",
      "Error: Server disconnected without sending a response., retrying... Attempt: 0\n",
      "Error: [SSL: SSLV3_ALERT_BAD_RECORD_MAC] sslv3 alert bad record mac (_ssl.c:2578), retrying... Attempt: 0\n",
      "Error: Server disconnected without sending a response., retrying... Attempt: 0\n",
      "Error: Server disconnected without sending a response., retrying... Attempt: 0\n",
      "Error: Server disconnected without sending a response., retrying... Attempt: 0\n",
      "Error: Server disconnected without sending a response., retrying... Attempt: 0\n",
      "Error: Server disconnected without sending a response., retrying... Attempt: 1\n",
      "Error: Server disconnected without sending a response., retrying... Attempt: 1\n",
      "Error: Server disconnected without sending a response., retrying... Attempt: 1\n",
      "Attempt: 1 Time 2.53s\n",
      "Attempt: 1 Time 2.64s\n",
      "Attempt: 2 Time 1.63s\n",
      "Attempt: 2 Time 1.91s\n",
      "Attempt: 2 Time 2.08s\n",
      "Attempt: 1 Time 3.77s\n"
     ]
    },
    {
     "data": {
      "application/vnd.jupyter.widget-view+json": {
       "model_id": "a50bb755dc454923be84d074818d4418",
       "version_major": 2,
       "version_minor": 0
      },
      "text/plain": [
       "  0%|          | 0/6 [00:00<?, ?it/s]"
      ]
     },
     "metadata": {},
     "output_type": "display_data"
    },
    {
     "name": "stdout",
     "output_type": "stream",
     "text": [
      "Prompt: fire\n",
      "Prompt: smoke\n",
      "Prompt: police\n",
      "Prompt: Formations\n",
      "Prompt: crowds\n",
      "Prompt: crush\n",
      "Error: Server disconnected without sending a response., retrying... Attempt: 0\n",
      "Error: Server disconnected without sending a response., retrying... Attempt: 0\n",
      "Error: Server disconnected without sending a response., retrying... Attempt: 1\n",
      "Attempt: 0 Time 2.07s\n",
      "Attempt: 0 Time 2.27s\n",
      "Attempt: 0 Time 2.37s\n",
      "Attempt: 1 Time 1.51s\n",
      "Attempt: 0 Time 3.64s\n",
      "Attempt: 2 Time 1.45s\n"
     ]
    },
    {
     "data": {
      "application/vnd.jupyter.widget-view+json": {
       "model_id": "f4bae9f6d1ef4b0c9783ca52de337096",
       "version_major": 2,
       "version_minor": 0
      },
      "text/plain": [
       "  0%|          | 0/6 [00:00<?, ?it/s]"
      ]
     },
     "metadata": {},
     "output_type": "display_data"
    },
    {
     "name": "stdout",
     "output_type": "stream",
     "text": [
      "Prompt: fire\n",
      "Prompt: smoke\n",
      "Prompt: police\n",
      "Prompt: Formations\n",
      "Prompt: crowds\n",
      "Prompt: crush\n",
      "Error: Server disconnected without sending a response., retrying... Attempt: 0\n",
      "Error: Server disconnected without sending a response., retrying... Attempt: 0\n",
      "Error: Server disconnected without sending a response., retrying... Attempt: 0\n",
      "Error: Server disconnected without sending a response., retrying... Attempt: 1\n",
      "Attempt: 0 Time 1.97s\n",
      "Attempt: 0 Time 2.16s\n",
      "Attempt: 0 Time 2.31s\n",
      "Error: Server disconnected without sending a response., retrying... Attempt: 2\n",
      "Attempt: 1 Time 1.85s\n",
      "Attempt: 1 Time 2.14s\n",
      "Attempt: 3 Time 2.15s\n"
     ]
    },
    {
     "data": {
      "application/vnd.jupyter.widget-view+json": {
       "model_id": "04693f7d68f84d43b7797002aad0b475",
       "version_major": 2,
       "version_minor": 0
      },
      "text/plain": [
       "  0%|          | 0/6 [00:00<?, ?it/s]"
      ]
     },
     "metadata": {},
     "output_type": "display_data"
    },
    {
     "name": "stdout",
     "output_type": "stream",
     "text": [
      "Prompt: fire\n",
      "Prompt: smoke\n",
      "Prompt: police\n",
      "Prompt: Formations\n",
      "Prompt: crowds\n",
      "Prompt: crush\n",
      "Error: Server disconnected without sending a response., retrying... Attempt: 0\n",
      "Attempt: 0 Time 1.76s\n",
      "Attempt: 0 Time 2.09s\n",
      "Attempt: 0 Time 2.22s\n",
      "Attempt: 0 Time 2.26s\n",
      "Attempt: 0 Time 2.84s\n",
      "Attempt: 1 Time 1.86s\n"
     ]
    },
    {
     "data": {
      "application/vnd.jupyter.widget-view+json": {
       "model_id": "189026d837a043578aa6efbf4ac02ad4",
       "version_major": 2,
       "version_minor": 0
      },
      "text/plain": [
       "  0%|          | 0/6 [00:00<?, ?it/s]"
      ]
     },
     "metadata": {},
     "output_type": "display_data"
    },
    {
     "name": "stdout",
     "output_type": "stream",
     "text": [
      "Prompt: fire\n",
      "Prompt: smoke\n",
      "Prompt: police\n",
      "Prompt: Formations\n",
      "Prompt: crowds\n",
      "Prompt: crush\n",
      "Error: Server disconnected without sending a response., retrying... Attempt: 0\n",
      "Error: Server disconnected without sending a response., retrying... Attempt: 0\n",
      "Error: [SSL: SSLV3_ALERT_BAD_RECORD_MAC] sslv3 alert bad record mac (_ssl.c:2578), retrying... Attempt: 0\n",
      "Error: Server disconnected without sending a response., retrying... Attempt: 1\n",
      "Error: Server disconnected without sending a response., retrying... Attempt: 1\n",
      "Attempt: 0 Time 1.81s\n",
      "Attempt: 0 Time 2.04s\n",
      "Attempt: 0 Time 2.11s\n",
      "Attempt: 1 Time 1.89s\n",
      "Attempt: 2 Time 1.93s\n",
      "Attempt: 2 Time 2.47s\n",
      "['False', 'False', 'False', 'False', 'True', 'True', 'False', 'False', 'True', 'False', 'False', 'True', 'False', 'False', 'False', 'False', 'True', 'True', 'False', 'False', 'False', 'False', 'True', 'False', 'False', 'False', 'False', 'False', 'True', 'False', 'False', 'False', 'False', 'False', 'True', 'True', 'False', 'False', 'False', 'False', 'False', 'False', 'False', 'False', 'False', 'False', 'False', 'True', 'False', 'False', 'True', 'False', 'True', 'True']\n"
     ]
    }
   ],
   "source": [
    "final_results = []\n",
    "\n",
    "for index in range(0, len(encoded_images)):\n",
    "    final_results += asyncio.run(analyse_image(encoded_images[4], prompts))\n",
    "\n",
    "print(final_results)"
   ]
  },
  {
   "cell_type": "code",
   "execution_count": 9,
   "metadata": {},
   "outputs": [
    {
     "data": {
      "application/vnd.jupyter.widget-view+json": {
       "model_id": "2ea900a01e354645a4f0e3a86871682d",
       "version_major": 2,
       "version_minor": 0
      },
      "text/plain": [
       "  0%|          | 0/9 [00:00<?, ?it/s]"
      ]
     },
     "metadata": {},
     "output_type": "display_data"
    },
    {
     "data": {
      "application/vnd.jupyter.widget-view+json": {
       "model_id": "02e7e200ec3b48e68fd857c463f8dd5c",
       "version_major": 2,
       "version_minor": 0
      },
      "text/plain": [
       "  0%|          | 0/6 [00:00<?, ?it/s]"
      ]
     },
     "metadata": {},
     "output_type": "display_data"
    },
    {
     "data": {
      "application/vnd.jupyter.widget-view+json": {
       "model_id": "8be92d5c448d478182b643382bfb939b",
       "version_major": 2,
       "version_minor": 0
      },
      "text/plain": [
       "  0%|          | 0/6 [00:00<?, ?it/s]"
      ]
     },
     "metadata": {},
     "output_type": "display_data"
    },
    {
     "data": {
      "application/vnd.jupyter.widget-view+json": {
       "model_id": "94ac79f41d66488ab6916d90172b0b25",
       "version_major": 2,
       "version_minor": 0
      },
      "text/plain": [
       "  0%|          | 0/6 [00:00<?, ?it/s]"
      ]
     },
     "metadata": {},
     "output_type": "display_data"
    },
    {
     "data": {
      "application/vnd.jupyter.widget-view+json": {
       "model_id": "d56405f3970a471eb1e68ac08d8d6ac1",
       "version_major": 2,
       "version_minor": 0
      },
      "text/plain": [
       "  0%|          | 0/6 [00:00<?, ?it/s]"
      ]
     },
     "metadata": {},
     "output_type": "display_data"
    },
    {
     "data": {
      "application/vnd.jupyter.widget-view+json": {
       "model_id": "cdb94547bc374576946d357193507266",
       "version_major": 2,
       "version_minor": 0
      },
      "text/plain": [
       "  0%|          | 0/6 [00:00<?, ?it/s]"
      ]
     },
     "metadata": {},
     "output_type": "display_data"
    },
    {
     "data": {
      "application/vnd.jupyter.widget-view+json": {
       "model_id": "79271e7b2cc248a38c794108833f9202",
       "version_major": 2,
       "version_minor": 0
      },
      "text/plain": [
       "  0%|          | 0/6 [00:00<?, ?it/s]"
      ]
     },
     "metadata": {},
     "output_type": "display_data"
    },
    {
     "data": {
      "application/vnd.jupyter.widget-view+json": {
       "model_id": "20a00c29e3bb400eb84868bbaeb2557f",
       "version_major": 2,
       "version_minor": 0
      },
      "text/plain": [
       "  0%|          | 0/6 [00:00<?, ?it/s]"
      ]
     },
     "metadata": {},
     "output_type": "display_data"
    },
    {
     "data": {
      "application/vnd.jupyter.widget-view+json": {
       "model_id": "b728a4e65fd54513adbf3ab03bfcb2bb",
       "version_major": 2,
       "version_minor": 0
      },
      "text/plain": [
       "  0%|          | 0/6 [00:00<?, ?it/s]"
      ]
     },
     "metadata": {},
     "output_type": "display_data"
    },
    {
     "data": {
      "application/vnd.jupyter.widget-view+json": {
       "model_id": "740328f7ddf94923b0cd9728ecbb3211",
       "version_major": 2,
       "version_minor": 0
      },
      "text/plain": [
       "  0%|          | 0/6 [00:00<?, ?it/s]"
      ]
     },
     "metadata": {},
     "output_type": "display_data"
    },
    {
     "name": "stdout",
     "output_type": "stream",
     "text": [
      "Prompt: fire\n",
      "Prompt: smoke\n",
      "Prompt: police\n",
      "Prompt: Formations\n",
      "Prompt: crowds\n",
      "Prompt: crush\n",
      "Prompt: fire\n",
      "Prompt: smoke\n",
      "Prompt: police\n",
      "Prompt: Formations\n",
      "Prompt: crowds\n",
      "Prompt: crush\n",
      "Prompt: fire\n",
      "Prompt: smoke\n",
      "Prompt: police\n",
      "Prompt: Formations\n",
      "Prompt: crowds\n",
      "Prompt: crush\n",
      "Prompt: fire\n",
      "Prompt: smoke\n",
      "Prompt: police\n",
      "Prompt: Formations\n",
      "Prompt: crowds\n",
      "Prompt: crush\n",
      "Prompt: fire\n",
      "Prompt: smoke\n",
      "Prompt: police\n",
      "Prompt: Formations\n",
      "Prompt: crowds\n",
      "Prompt: crush\n",
      "Prompt: fire\n",
      "Prompt: smoke\n",
      "Prompt: police\n",
      "Prompt: Formations\n",
      "Prompt: crowds\n",
      "Prompt: crush\n",
      "Prompt: fire\n",
      "Prompt: smoke\n",
      "Prompt: police\n",
      "Prompt: Formations\n",
      "Prompt: crowds\n",
      "Prompt: crush\n",
      "Prompt: fire\n",
      "Prompt: smoke\n",
      "Prompt: police\n",
      "Prompt: Formations\n",
      "Prompt: crowds\n",
      "Prompt: crush\n",
      "Prompt: fire\n",
      "Prompt: smoke\n",
      "Prompt: police\n",
      "Prompt: Formations\n",
      "Prompt: crowds\n",
      "Prompt: crush\n",
      "Error: [SSL: SSLV3_ALERT_BAD_RECORD_MAC] sslv3 alert bad record mac (_ssl.c:2578), retrying... Attempt: 0\n",
      "Error: Server disconnected without sending a response., retrying... Attempt: 0\n",
      "Error: Server disconnected without sending a response., retrying... Attempt: 0\n",
      "Error: Server disconnected without sending a response., retrying... Attempt: 0\n",
      "Error: Server disconnected without sending a response., retrying... Attempt: 0\n",
      "Error: Server disconnected without sending a response., retrying... Attempt: 0\n",
      "Error: Server disconnected without sending a response., retrying... Attempt: 0\n",
      "Error: Server disconnected without sending a response., retrying... Attempt: 0\n",
      "Error: Server disconnected without sending a response., retrying... Attempt: 0\n",
      "Attempt: 0 Time 2.20s\n",
      "Error: Server disconnected without sending a response., retrying... Attempt: 0\n",
      "Error: Server disconnected without sending a response., retrying... Attempt: 0\n",
      "Attempt: 0 Time 2.38s\n",
      "Attempt: 0 Time 2.11s\n",
      "Error: Server disconnected without sending a response., retrying... Attempt: 0\n",
      "Error: Server disconnected without sending a response., retrying... Attempt: 0\n",
      "Attempt: 0 Time 2.86s\n",
      "Error: Server disconnected without sending a response., retrying... Attempt: 0\n",
      "Attempt: 0 Time 2.86s\n",
      "Error: Server disconnected without sending a response., retrying... Attempt: 0\n",
      "Attempt: 0 Time 3.05s\n",
      "Attempt: 0 Time 3.22s\n",
      "Attempt: 0 Time 3.02s\n",
      "Error: Server disconnected without sending a response., retrying... Attempt: 0\n",
      "Error: Server disconnected without sending a response., retrying... Attempt: 0\n",
      "Attempt: 0 Time 3.66s\n",
      "Attempt: 0 Time 3.66s\n",
      "Attempt: 0 Time 3.92s\n",
      "Attempt: 0 Time 4.48s\n",
      "Attempt: 0 Time 4.79s\n",
      "Attempt: 0 Time 4.78s\n",
      "Attempt: 0 Time 5.54s\n",
      "Attempt: 0 Time 5.68s\n",
      "Error: Server disconnected without sending a response., retrying... Attempt: 0\n",
      "Attempt: 0 Time 6.12s\n",
      "Attempt: 0 Time 6.20s\n",
      "Error: Server disconnected without sending a response., retrying... Attempt: 0\n",
      "Attempt: 0 Time 6.28s\n",
      "Attempt: 0 Time 6.38s\n",
      "Attempt: 0 Time 6.47s\n",
      "Error: Server disconnected without sending a response., retrying... Attempt: 0\n",
      "Attempt: 0 Time 6.52s\n",
      "Attempt: 0 Time 6.60s\n",
      "Attempt: 0 Time 6.68s\n",
      "Error: Server disconnected without sending a response., retrying... Attempt: 0\n",
      "Error: Server disconnected without sending a response., retrying... Attempt: 0\n",
      "Error: Server disconnected without sending a response., retrying... Attempt: 0\n",
      "Error: Server disconnected without sending a response., retrying... Attempt: 0\n",
      "Error: Server disconnected without sending a response., retrying... Attempt: 0\n",
      "Attempt: 0 Time 9.07s\n",
      "Attempt: 0 Time 9.15s\n",
      "Attempt: 1 Time 8.29s\n",
      "Attempt: 0 Time 9.45s\n",
      "Attempt: 1 Time 8.41s\n",
      "Error: API error occurred: Status 400\n",
      "{\"param\":null,\"code\":2210,\"message\":\"Could not parse body - request body did not fit into client body buffer, consider raising 'client_body_buffer_size'\",\"type\":\"invalid_request_filter\",\"object\":\"error\"}, retrying... Attempt: 0\n",
      "Attempt: 1 Time 8.91s\n",
      "Attempt: 1 Time 9.27s\n",
      "Attempt: 1 Time 8.75s\n",
      "Attempt: 1 Time 9.72s\n",
      "Attempt: 1 Time 9.84s\n",
      "Attempt: 0 Time 11.68s\n",
      "Attempt: 1 Time 10.63s\n",
      "Attempt: 1 Time 9.82s\n",
      "Attempt: 1 Time 10.01s\n",
      "Attempt: 1 Time 7.99s\n",
      "Attempt: 1 Time 9.75s\n",
      "Attempt: 1 Time 11.48s\n",
      "Attempt: 1 Time 10.48s\n",
      "Attempt: 1 Time 8.94s\n",
      "Attempt: 1 Time 11.49s\n",
      "Attempt: 1 Time 8.02s\n",
      "Attempt: 1 Time 5.50s\n"
     ]
    },
    {
     "ename": "KeyboardInterrupt",
     "evalue": "",
     "output_type": "error",
     "traceback": [
      "\u001b[1;31m---------------------------------------------------------------------------\u001b[0m",
      "\u001b[1;31mKeyboardInterrupt\u001b[0m                         Traceback (most recent call last)",
      "Cell \u001b[1;32mIn[9], line 1\u001b[0m\n\u001b[1;32m----> 1\u001b[0m final_results \u001b[38;5;241m=\u001b[39m \u001b[43masyncio\u001b[49m\u001b[38;5;241;43m.\u001b[39;49m\u001b[43mrun\u001b[49m\u001b[43m(\u001b[49m\u001b[43manalyse_images\u001b[49m\u001b[43m(\u001b[49m\u001b[43mencoded_images\u001b[49m\u001b[43m,\u001b[49m\u001b[43m \u001b[49m\u001b[43mprompts\u001b[49m\u001b[43m)\u001b[49m\u001b[43m)\u001b[49m\n",
      "File \u001b[1;32mc:\\Users\\William\\miniconda3\\envs\\dropout\\lib\\site-packages\\nest_asyncio.py:30\u001b[0m, in \u001b[0;36m_patch_asyncio.<locals>.run\u001b[1;34m(main, debug)\u001b[0m\n\u001b[0;32m     28\u001b[0m task \u001b[38;5;241m=\u001b[39m asyncio\u001b[38;5;241m.\u001b[39mensure_future(main)\n\u001b[0;32m     29\u001b[0m \u001b[38;5;28;01mtry\u001b[39;00m:\n\u001b[1;32m---> 30\u001b[0m     \u001b[38;5;28;01mreturn\u001b[39;00m \u001b[43mloop\u001b[49m\u001b[38;5;241;43m.\u001b[39;49m\u001b[43mrun_until_complete\u001b[49m\u001b[43m(\u001b[49m\u001b[43mtask\u001b[49m\u001b[43m)\u001b[49m\n\u001b[0;32m     31\u001b[0m \u001b[38;5;28;01mfinally\u001b[39;00m:\n\u001b[0;32m     32\u001b[0m     \u001b[38;5;28;01mif\u001b[39;00m \u001b[38;5;129;01mnot\u001b[39;00m task\u001b[38;5;241m.\u001b[39mdone():\n",
      "File \u001b[1;32mc:\\Users\\William\\miniconda3\\envs\\dropout\\lib\\site-packages\\nest_asyncio.py:92\u001b[0m, in \u001b[0;36m_patch_loop.<locals>.run_until_complete\u001b[1;34m(self, future)\u001b[0m\n\u001b[0;32m     90\u001b[0m     f\u001b[38;5;241m.\u001b[39m_log_destroy_pending \u001b[38;5;241m=\u001b[39m \u001b[38;5;28;01mFalse\u001b[39;00m\n\u001b[0;32m     91\u001b[0m \u001b[38;5;28;01mwhile\u001b[39;00m \u001b[38;5;129;01mnot\u001b[39;00m f\u001b[38;5;241m.\u001b[39mdone():\n\u001b[1;32m---> 92\u001b[0m     \u001b[38;5;28;43mself\u001b[39;49m\u001b[38;5;241;43m.\u001b[39;49m\u001b[43m_run_once\u001b[49m\u001b[43m(\u001b[49m\u001b[43m)\u001b[49m\n\u001b[0;32m     93\u001b[0m     \u001b[38;5;28;01mif\u001b[39;00m \u001b[38;5;28mself\u001b[39m\u001b[38;5;241m.\u001b[39m_stopping:\n\u001b[0;32m     94\u001b[0m         \u001b[38;5;28;01mbreak\u001b[39;00m\n",
      "File \u001b[1;32mc:\\Users\\William\\miniconda3\\envs\\dropout\\lib\\site-packages\\nest_asyncio.py:115\u001b[0m, in \u001b[0;36m_patch_loop.<locals>._run_once\u001b[1;34m(self)\u001b[0m\n\u001b[0;32m    108\u001b[0m     heappop(scheduled)\n\u001b[0;32m    110\u001b[0m timeout \u001b[38;5;241m=\u001b[39m (\n\u001b[0;32m    111\u001b[0m     \u001b[38;5;241m0\u001b[39m \u001b[38;5;28;01mif\u001b[39;00m ready \u001b[38;5;129;01mor\u001b[39;00m \u001b[38;5;28mself\u001b[39m\u001b[38;5;241m.\u001b[39m_stopping\n\u001b[0;32m    112\u001b[0m     \u001b[38;5;28;01melse\u001b[39;00m \u001b[38;5;28mmin\u001b[39m(\u001b[38;5;28mmax\u001b[39m(\n\u001b[0;32m    113\u001b[0m         scheduled[\u001b[38;5;241m0\u001b[39m]\u001b[38;5;241m.\u001b[39m_when \u001b[38;5;241m-\u001b[39m \u001b[38;5;28mself\u001b[39m\u001b[38;5;241m.\u001b[39mtime(), \u001b[38;5;241m0\u001b[39m), \u001b[38;5;241m86400\u001b[39m) \u001b[38;5;28;01mif\u001b[39;00m scheduled\n\u001b[0;32m    114\u001b[0m     \u001b[38;5;28;01melse\u001b[39;00m \u001b[38;5;28;01mNone\u001b[39;00m)\n\u001b[1;32m--> 115\u001b[0m event_list \u001b[38;5;241m=\u001b[39m \u001b[38;5;28;43mself\u001b[39;49m\u001b[38;5;241;43m.\u001b[39;49m\u001b[43m_selector\u001b[49m\u001b[38;5;241;43m.\u001b[39;49m\u001b[43mselect\u001b[49m\u001b[43m(\u001b[49m\u001b[43mtimeout\u001b[49m\u001b[43m)\u001b[49m\n\u001b[0;32m    116\u001b[0m \u001b[38;5;28mself\u001b[39m\u001b[38;5;241m.\u001b[39m_process_events(event_list)\n\u001b[0;32m    118\u001b[0m end_time \u001b[38;5;241m=\u001b[39m \u001b[38;5;28mself\u001b[39m\u001b[38;5;241m.\u001b[39mtime() \u001b[38;5;241m+\u001b[39m \u001b[38;5;28mself\u001b[39m\u001b[38;5;241m.\u001b[39m_clock_resolution\n",
      "File \u001b[1;32mc:\\Users\\William\\miniconda3\\envs\\dropout\\lib\\asyncio\\windows_events.py:444\u001b[0m, in \u001b[0;36mIocpProactor.select\u001b[1;34m(self, timeout)\u001b[0m\n\u001b[0;32m    442\u001b[0m \u001b[38;5;28;01mdef\u001b[39;00m \u001b[38;5;21mselect\u001b[39m(\u001b[38;5;28mself\u001b[39m, timeout\u001b[38;5;241m=\u001b[39m\u001b[38;5;28;01mNone\u001b[39;00m):\n\u001b[0;32m    443\u001b[0m     \u001b[38;5;28;01mif\u001b[39;00m \u001b[38;5;129;01mnot\u001b[39;00m \u001b[38;5;28mself\u001b[39m\u001b[38;5;241m.\u001b[39m_results:\n\u001b[1;32m--> 444\u001b[0m         \u001b[38;5;28;43mself\u001b[39;49m\u001b[38;5;241;43m.\u001b[39;49m\u001b[43m_poll\u001b[49m\u001b[43m(\u001b[49m\u001b[43mtimeout\u001b[49m\u001b[43m)\u001b[49m\n\u001b[0;32m    445\u001b[0m     tmp \u001b[38;5;241m=\u001b[39m \u001b[38;5;28mself\u001b[39m\u001b[38;5;241m.\u001b[39m_results\n\u001b[0;32m    446\u001b[0m     \u001b[38;5;28mself\u001b[39m\u001b[38;5;241m.\u001b[39m_results \u001b[38;5;241m=\u001b[39m []\n",
      "File \u001b[1;32mc:\\Users\\William\\miniconda3\\envs\\dropout\\lib\\asyncio\\windows_events.py:797\u001b[0m, in \u001b[0;36mIocpProactor._poll\u001b[1;34m(self, timeout)\u001b[0m\n\u001b[0;32m    794\u001b[0m         \u001b[38;5;28;01mraise\u001b[39;00m \u001b[38;5;167;01mValueError\u001b[39;00m(\u001b[38;5;124m\"\u001b[39m\u001b[38;5;124mtimeout too big\u001b[39m\u001b[38;5;124m\"\u001b[39m)\n\u001b[0;32m    796\u001b[0m \u001b[38;5;28;01mwhile\u001b[39;00m \u001b[38;5;28;01mTrue\u001b[39;00m:\n\u001b[1;32m--> 797\u001b[0m     status \u001b[38;5;241m=\u001b[39m \u001b[43m_overlapped\u001b[49m\u001b[38;5;241;43m.\u001b[39;49m\u001b[43mGetQueuedCompletionStatus\u001b[49m\u001b[43m(\u001b[49m\u001b[38;5;28;43mself\u001b[39;49m\u001b[38;5;241;43m.\u001b[39;49m\u001b[43m_iocp\u001b[49m\u001b[43m,\u001b[49m\u001b[43m \u001b[49m\u001b[43mms\u001b[49m\u001b[43m)\u001b[49m\n\u001b[0;32m    798\u001b[0m     \u001b[38;5;28;01mif\u001b[39;00m status \u001b[38;5;129;01mis\u001b[39;00m \u001b[38;5;28;01mNone\u001b[39;00m:\n\u001b[0;32m    799\u001b[0m         \u001b[38;5;28;01mbreak\u001b[39;00m\n",
      "\u001b[1;31mKeyboardInterrupt\u001b[0m: "
     ]
    }
   ],
   "source": [
    "# final_results = asyncio.run(analyse_images(encoded_images, prompts))"
   ]
  },
  {
   "cell_type": "code",
   "execution_count": null,
   "metadata": {},
   "outputs": [
    {
     "ename": "NameError",
     "evalue": "name 'final_results' is not defined",
     "output_type": "error",
     "traceback": [
      "\u001b[1;31m---------------------------------------------------------------------------\u001b[0m",
      "\u001b[1;31mNameError\u001b[0m                                 Traceback (most recent call last)",
      "Cell \u001b[1;32mIn[11], line 7\u001b[0m\n\u001b[0;32m      3\u001b[0m rows \u001b[38;5;241m=\u001b[39m [file\u001b[38;5;241m.\u001b[39msplit(\u001b[38;5;124m\"\u001b[39m\u001b[38;5;124m.\u001b[39m\u001b[38;5;124m\"\u001b[39m)[\u001b[38;5;241m0\u001b[39m] \u001b[38;5;28;01mfor\u001b[39;00m file \u001b[38;5;129;01min\u001b[39;00m files]\n\u001b[0;32m      5\u001b[0m \u001b[38;5;28;01mimport\u001b[39;00m \u001b[38;5;21;01mpandas\u001b[39;00m \u001b[38;5;28;01mas\u001b[39;00m \u001b[38;5;21;01mpd\u001b[39;00m\n\u001b[1;32m----> 7\u001b[0m df \u001b[38;5;241m=\u001b[39m pd\u001b[38;5;241m.\u001b[39mDataFrame(\u001b[43mfinal_results\u001b[49m, columns\u001b[38;5;241m=\u001b[39mcolumns, index\u001b[38;5;241m=\u001b[39mrows)\n\u001b[0;32m      8\u001b[0m \u001b[38;5;28mprint\u001b[39m(df)\n",
      "\u001b[1;31mNameError\u001b[0m: name 'final_results' is not defined"
     ]
    }
   ],
   "source": [
    "# final_results\n",
    "columns = [prompt[\"name\"] for prompt in prompts]\n",
    "rows = [file.split(\".\")[0] for file in files]\n",
    "\n",
    "import pandas as pd\n",
    "\n",
    "df = pd.DataFrame(final_results, columns=columns, index=rows)\n",
    "print(df)\n"
   ]
  },
  {
   "cell_type": "code",
   "execution_count": null,
   "metadata": {},
   "outputs": [],
   "source": []
  }
 ],
 "metadata": {
  "kernelspec": {
   "display_name": "base",
   "language": "python",
   "name": "python3"
  },
  "language_info": {
   "codemirror_mode": {
    "name": "ipython",
    "version": 3
   },
   "file_extension": ".py",
   "mimetype": "text/x-python",
   "name": "python",
   "nbconvert_exporter": "python",
   "pygments_lexer": "ipython3",
   "version": "3.10.15"
  }
 },
 "nbformat": 4,
 "nbformat_minor": 2
}
