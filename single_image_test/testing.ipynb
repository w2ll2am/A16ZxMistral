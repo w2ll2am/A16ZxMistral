{
 "cells": [
  {
   "cell_type": "code",
   "execution_count": 5,
   "metadata": {},
   "outputs": [
    {
     "name": "stdout",
     "output_type": "stream",
     "text": [
      "Collecting tqdm\n",
      "  Downloading tqdm-4.66.5-py3-none-any.whl.metadata (57 kB)\n",
      "Requirement already satisfied: colorama in c:\\users\\william\\miniconda3\\envs\\dropout\\lib\\site-packages (from tqdm) (0.4.6)\n",
      "Downloading tqdm-4.66.5-py3-none-any.whl (78 kB)\n",
      "Installing collected packages: tqdm\n",
      "Successfully installed tqdm-4.66.5\n"
     ]
    }
   ],
   "source": [
    "\n",
    "# !pip install asyncio\n",
    "# !pip install nest-asyncio\n",
    "# !pip install pandas\n",
    "# !pip install tqdm"
   ]
  },
  {
   "cell_type": "code",
   "execution_count": 1,
   "metadata": {},
   "outputs": [],
   "source": [
    "# API_KEY = \"zgJAdEg3lkVxGXyEtM89tOZplOsTi8bv\" # Personal\n",
    "API_KEY = \"pqmKVrIjJjkKQMhvRslPapP7QzNV2A1I\"# Hackathon\n",
    "notebook_dir = \"C:\\\\Users\\\\William\\\\Documents\\\\ML\\\\a16z Hackathon\\\\A16ZxMistral\\\\single_image_test\"\n",
    "image_foler = \"images\"\n",
    "images_dir = f\"{notebook_dir}/{image_foler}\""
   ]
  },
  {
   "cell_type": "code",
   "execution_count": 2,
   "metadata": {},
   "outputs": [],
   "source": [
    "\n",
    "import os\n",
    "from mistralai import Mistral\n",
    "import base64\n",
    "import asyncio\n",
    "import nest_asyncio\n",
    "nest_asyncio.apply()\n",
    "import time\n",
    "from tqdm.notebook import tqdm\n",
    "\n",
    "model = \"pixtral-12b-latest\"\n",
    "client = Mistral(api_key=API_KEY)"
   ]
  },
  {
   "cell_type": "code",
   "execution_count": 3,
   "metadata": {},
   "outputs": [],
   "source": [
    "def encode_image_base64(image_path):\n",
    "  with open(image_path, \"rb\") as image_file:\n",
    "    return base64.b64encode(image_file.read()).decode(\"utf-8\")\n",
    "\n"
   ]
  },
  {
   "cell_type": "code",
   "execution_count": 4,
   "metadata": {},
   "outputs": [
    {
     "name": "stdout",
     "output_type": "stream",
     "text": [
      "['Crowd.png', 'Fire.png', 'Line of Police.png', 'Line of Protesters.png', 'No Crowd.png', 'No FIre.png', 'No tags.png', 'small images.zip', 'Smoke.png']\n"
     ]
    }
   ],
   "source": [
    "files = os.listdir(images_dir)\n",
    "print(files)\n",
    "encoded_images = [encode_image_base64(f\"{images_dir}/{file}\") for file in files]\n",
    "prompts = [\n",
    "\t{\n",
    "\t\t\"name\": \"fire\",\n",
    "\t\t\"prompt\": \"Do you see fire in this image? If so return 'True' otherwise return 'False' without the quotation marks.\"\n",
    "\t},\n",
    "\t{\n",
    "\t\t\"name\": \"smoke\",\n",
    "\t\t\"prompt\": \"Do you see smoke or dense steam in the iamge ? If so return 'True' otherwise return 'False' without the quotation marks.\"\n",
    "\t},\n",
    "\t{\n",
    "\t\t\"name\": \"police\",\n",
    "\t\t\"prompt\": \"Do you see police or law enforcement present in the image? If so return 'True' otherwise return 'False' without the quotation marks.\"\n",
    "\t},\n",
    "\t{\n",
    "\t\t\"name\": \"Formations\",\n",
    "\t\t\"prompt\": \"Do you see people orginised in formations e.g. standing in organised lines? If so return 'True' otherwise return 'False' without the quotation marks.\"\n",
    "\t},\n",
    "\t{\n",
    "\t\t\"name\": \"crowds\",\n",
    "\t\t\"prompt\": \"Do you see any crowds of people of 20 or more? If so return 'True' otherwise return 'False' without the quotation marks.\"\n",
    "\t},\n",
    "\t{\n",
    "\t\t\"name\": \"crush\",\n",
    "\t\t\"prompt\": \"Do you see any crowds of more than 60 people, that could be dangerous to vunerable people? If so return 'True' otherwise return 'False' without the quotation marks.\"\n",
    "\t},\n",
    "]\n",
    "\n"
   ]
  },
  {
   "cell_type": "code",
   "execution_count": 5,
   "metadata": {},
   "outputs": [],
   "source": [
    "\n",
    "async def get_pixtral_reponse(encoded_image, prompt):\n",
    "    print(f\"Prompt: {prompt['name']}\")\n",
    "    try_number = 0\n",
    "    while True: \n",
    "        try:\n",
    "            start = time.time()\n",
    "            chat_response = await asyncio.to_thread(\n",
    "                client.chat.complete,  # Run blocking call in a separate thread\n",
    "                model=model,\n",
    "                messages=[\n",
    "                    {\n",
    "                        \"role\": \"user\",\n",
    "                        \"content\": [\n",
    "                            {\n",
    "                                \"type\": \"text\",\n",
    "                                \"text\": f\"{prompt['prompt']}\"\n",
    "                            },\n",
    "                            {\n",
    "                                \"type\": \"image_url\",\n",
    "                                \"image_url\": f\"data:image/png;base64,{encoded_image}\"\n",
    "                            },\n",
    "                        ]\n",
    "                    },\n",
    "                ]\n",
    "            )\n",
    "            response = chat_response.choices[0].message.content\n",
    "            end = time.time()\n",
    "            print(f\"Attempt: {try_number} Time {end - start:.2f}s\")\n",
    "            break\n",
    "        except Exception as e: \n",
    "            print(f\"Error: {e}, retrying... Attempt: {try_number}\")\n",
    "            try_number += 1\n",
    "            await asyncio.sleep(1)  # Introduce a short delay before retrying\n",
    "    return response\n",
    "\n",
    "async def analyse_image(encoded_image, prompts):\n",
    "    coroutines = [\n",
    "        get_pixtral_reponse(encoded_image, prompt) \n",
    "        for prompt in tqdm(prompts)\n",
    "    ]\n",
    "    results = await asyncio.gather(*coroutines)\n",
    "    return results\n",
    "\n",
    "async def analyse_images(encoded_images, prompts):\n",
    "    coroutines = [\n",
    "        analyse_image(encoded_image, prompts) \n",
    "        for encoded_image in tqdm(encoded_images)\n",
    "    ]\n",
    "    results = await asyncio.gather(*coroutines)\n",
    "    return results"
   ]
  },
  {
   "cell_type": "code",
   "execution_count": 6,
   "metadata": {},
   "outputs": [
    {
     "name": "stdout",
     "output_type": "stream",
     "text": [
      "Prompt: fire\n",
      "Error: [SSL: SSLV3_ALERT_BAD_RECORD_MAC] sslv3 alert bad record mac (_ssl.c:2578), retrying... Attempt: 0\n",
      "Attempt: 1 Time 1.87s\n",
      "False\n"
     ]
    }
   ],
   "source": [
    "single_result = await get_pixtral_reponse(encoded_images[0], prompts[0])\n",
    "print(single_result )"
   ]
  },
  {
   "cell_type": "code",
   "execution_count": 7,
   "metadata": {},
   "outputs": [
    {
     "data": {
      "application/vnd.jupyter.widget-view+json": {
       "model_id": "18cc6e06499149e8bb82c36990c17bfd",
       "version_major": 2,
       "version_minor": 0
      },
      "text/plain": [
       "  0%|          | 0/6 [00:00<?, ?it/s]"
      ]
     },
     "metadata": {},
     "output_type": "display_data"
    },
    {
     "name": "stdout",
     "output_type": "stream",
     "text": [
      "Prompt: fire\n",
      "Prompt: smoke\n",
      "Prompt: police\n",
      "Prompt: Formations\n",
      "Prompt: crowds\n",
      "Prompt: crush\n",
      "Error: Server disconnected without sending a response., retrying... Attempt: 0\n",
      "Error: Server disconnected without sending a response., retrying... Attempt: 0\n",
      "Error: [SSL: SSLV3_ALERT_BAD_RECORD_MAC] sslv3 alert bad record mac (_ssl.c:2578), retrying... Attempt: 0\n",
      "Error: Server disconnected without sending a response., retrying... Attempt: 0\n",
      "Error: Server disconnected without sending a response., retrying... Attempt: 0\n",
      "Error: Server disconnected without sending a response., retrying... Attempt: 1\n",
      "Error: Server disconnected without sending a response., retrying... Attempt: 1\n",
      "Error: Server disconnected without sending a response., retrying... Attempt: 1\n",
      "Error: Server disconnected without sending a response., retrying... Attempt: 1\n",
      "Attempt: 0 Time 2.24s\n",
      "Attempt: 1 Time 1.59s\n",
      "Error: Server disconnected without sending a response., retrying... Attempt: 2\n",
      "Error: Server disconnected without sending a response., retrying... Attempt: 2\n",
      "Error: Server disconnected without sending a response., retrying... Attempt: 2\n",
      "Error: Server disconnected without sending a response., retrying... Attempt: 2\n",
      "Error: Server disconnected without sending a response., retrying... Attempt: 3\n",
      "Error: Server disconnected without sending a response., retrying... Attempt: 3\n",
      "Error: Server disconnected without sending a response., retrying... Attempt: 3\n",
      "Error: Server disconnected without sending a response., retrying... Attempt: 4\n",
      "Error: Server disconnected without sending a response., retrying... Attempt: 4\n",
      "Error: Server disconnected without sending a response., retrying... Attempt: 4\n",
      "Attempt: 3 Time 1.83s\n",
      "Error: Server disconnected without sending a response., retrying... Attempt: 5\n",
      "Error: Server disconnected without sending a response., retrying... Attempt: 5\n",
      "Error: Server disconnected without sending a response., retrying... Attempt: 5\n",
      "Error: Server disconnected without sending a response., retrying... Attempt: 6\n",
      "Error: Server disconnected without sending a response., retrying... Attempt: 6\n",
      "Error: Server disconnected without sending a response., retrying... Attempt: 6\n",
      "Error: Server disconnected without sending a response., retrying... Attempt: 7\n",
      "Error: Server disconnected without sending a response., retrying... Attempt: 7\n",
      "Error: Server disconnected without sending a response., retrying... Attempt: 7\n",
      "Error: Server disconnected without sending a response., retrying... Attempt: 8\n",
      "Error: Server disconnected without sending a response., retrying... Attempt: 8\n",
      "Error: Server disconnected without sending a response., retrying... Attempt: 9\n",
      "Error: [SSL: SSLV3_ALERT_BAD_RECORD_MAC] sslv3 alert bad record mac (_ssl.c:2578), retrying... Attempt: 9\n",
      "Attempt: 8 Time 2.00s\n",
      "Error: Server disconnected without sending a response., retrying... Attempt: 10\n",
      "Error: Server disconnected without sending a response., retrying... Attempt: 10\n",
      "Error: Server disconnected without sending a response., retrying... Attempt: 11\n",
      "Error: Server disconnected without sending a response., retrying... Attempt: 11\n",
      "Error: Server disconnected without sending a response., retrying... Attempt: 12\n",
      "Error: Server disconnected without sending a response., retrying... Attempt: 12\n",
      "Error: Server disconnected without sending a response., retrying... Attempt: 13\n",
      "Error: Server disconnected without sending a response., retrying... Attempt: 13\n",
      "Error: Server disconnected without sending a response., retrying... Attempt: 14\n",
      "Error: Server disconnected without sending a response., retrying... Attempt: 14\n",
      "Error: Server disconnected without sending a response., retrying... Attempt: 15\n",
      "Error: Server disconnected without sending a response., retrying... Attempt: 15\n",
      "Error: Server disconnected without sending a response., retrying... Attempt: 16\n",
      "Error: Server disconnected without sending a response., retrying... Attempt: 16\n",
      "Error: Server disconnected without sending a response., retrying... Attempt: 17\n",
      "Error: Server disconnected without sending a response., retrying... Attempt: 18\n",
      "Attempt: 17 Time 2.31s\n",
      "Error: Server disconnected without sending a response., retrying... Attempt: 19\n",
      "Error: Server disconnected without sending a response., retrying... Attempt: 20\n",
      "Error: Server disconnected without sending a response., retrying... Attempt: 21\n",
      "Error: Server disconnected without sending a response., retrying... Attempt: 22\n",
      "Error: Server disconnected without sending a response., retrying... Attempt: 23\n",
      "Attempt: 24 Time 2.42s\n",
      "['False', 'True', 'False', 'False', 'True', 'True']\n"
     ]
    }
   ],
   "source": [
    "multiple_prompts = asyncio.run(analyse_image(encoded_images[0], prompts))\n",
    "print(multiple_prompts)"
   ]
  },
  {
   "cell_type": "code",
   "execution_count": 8,
   "metadata": {},
   "outputs": [
    {
     "data": {
      "application/vnd.jupyter.widget-view+json": {
       "model_id": "b43e5cf0fb8c48cea0f935f4f97d1f59",
       "version_major": 2,
       "version_minor": 0
      },
      "text/plain": [
       "  0%|          | 0/9 [00:00<?, ?it/s]"
      ]
     },
     "metadata": {},
     "output_type": "display_data"
    },
    {
     "data": {
      "application/vnd.jupyter.widget-view+json": {
       "model_id": "9708a3c5ff194f2b8aa216b81da2b792",
       "version_major": 2,
       "version_minor": 0
      },
      "text/plain": [
       "  0%|          | 0/6 [00:00<?, ?it/s]"
      ]
     },
     "metadata": {},
     "output_type": "display_data"
    },
    {
     "data": {
      "application/vnd.jupyter.widget-view+json": {
       "model_id": "c6568c86218e4b699c075e8080dc87f5",
       "version_major": 2,
       "version_minor": 0
      },
      "text/plain": [
       "  0%|          | 0/6 [00:00<?, ?it/s]"
      ]
     },
     "metadata": {},
     "output_type": "display_data"
    },
    {
     "data": {
      "application/vnd.jupyter.widget-view+json": {
       "model_id": "1906730ba17341708f0ad61a6996a8d3",
       "version_major": 2,
       "version_minor": 0
      },
      "text/plain": [
       "  0%|          | 0/6 [00:00<?, ?it/s]"
      ]
     },
     "metadata": {},
     "output_type": "display_data"
    },
    {
     "data": {
      "application/vnd.jupyter.widget-view+json": {
       "model_id": "3813fa12a9444cab9045f1aa15953639",
       "version_major": 2,
       "version_minor": 0
      },
      "text/plain": [
       "  0%|          | 0/6 [00:00<?, ?it/s]"
      ]
     },
     "metadata": {},
     "output_type": "display_data"
    },
    {
     "data": {
      "application/vnd.jupyter.widget-view+json": {
       "model_id": "e7c1b5d11aa648ea9b34527a70b17096",
       "version_major": 2,
       "version_minor": 0
      },
      "text/plain": [
       "  0%|          | 0/6 [00:00<?, ?it/s]"
      ]
     },
     "metadata": {},
     "output_type": "display_data"
    },
    {
     "data": {
      "application/vnd.jupyter.widget-view+json": {
       "model_id": "0ace06ebff08478a83cfc298c191648f",
       "version_major": 2,
       "version_minor": 0
      },
      "text/plain": [
       "  0%|          | 0/6 [00:00<?, ?it/s]"
      ]
     },
     "metadata": {},
     "output_type": "display_data"
    },
    {
     "data": {
      "application/vnd.jupyter.widget-view+json": {
       "model_id": "91a9ed2283754e36b639211c567b218c",
       "version_major": 2,
       "version_minor": 0
      },
      "text/plain": [
       "  0%|          | 0/6 [00:00<?, ?it/s]"
      ]
     },
     "metadata": {},
     "output_type": "display_data"
    },
    {
     "data": {
      "application/vnd.jupyter.widget-view+json": {
       "model_id": "55017d3abdfe43be853c6f419e7d32be",
       "version_major": 2,
       "version_minor": 0
      },
      "text/plain": [
       "  0%|          | 0/6 [00:00<?, ?it/s]"
      ]
     },
     "metadata": {},
     "output_type": "display_data"
    },
    {
     "data": {
      "application/vnd.jupyter.widget-view+json": {
       "model_id": "9a6d5c0b0b4548bbb4dadc080f6715ba",
       "version_major": 2,
       "version_minor": 0
      },
      "text/plain": [
       "  0%|          | 0/6 [00:00<?, ?it/s]"
      ]
     },
     "metadata": {},
     "output_type": "display_data"
    },
    {
     "name": "stdout",
     "output_type": "stream",
     "text": [
      "Prompt: fire\n",
      "Prompt: smoke\n",
      "Prompt: police\n",
      "Prompt: Formations\n",
      "Prompt: crowds\n",
      "Prompt: crush\n",
      "Prompt: fire\n",
      "Prompt: smoke\n",
      "Prompt: police\n",
      "Prompt: Formations\n",
      "Prompt: crowds\n",
      "Prompt: crush\n",
      "Prompt: fire\n",
      "Prompt: smoke\n",
      "Prompt: police\n",
      "Prompt: Formations\n",
      "Prompt: crowds\n",
      "Prompt: crush\n",
      "Prompt: fire\n",
      "Prompt: smoke\n",
      "Prompt: police\n",
      "Prompt: Formations\n",
      "Prompt: crowds\n",
      "Prompt: crush\n",
      "Prompt: fire\n",
      "Prompt: smoke\n",
      "Prompt: police\n",
      "Prompt: Formations\n",
      "Prompt: crowds\n",
      "Prompt: crush\n",
      "Prompt: fire\n",
      "Prompt: smoke\n",
      "Prompt: police\n",
      "Prompt: Formations\n",
      "Prompt: crowds\n",
      "Prompt: crush\n",
      "Prompt: fire\n",
      "Prompt: smoke\n",
      "Prompt: police\n",
      "Prompt: Formations\n",
      "Prompt: crowds\n",
      "Prompt: crush\n",
      "Prompt: fire\n",
      "Prompt: smoke\n",
      "Prompt: police\n",
      "Prompt: Formations\n",
      "Prompt: crowds\n",
      "Prompt: crush\n",
      "Prompt: fire\n",
      "Prompt: smoke\n",
      "Prompt: police\n",
      "Prompt: Formations\n",
      "Prompt: crowds\n",
      "Prompt: crush\n",
      "Attempt: 0 Time 2.14s\n",
      "Attempt: 0 Time 3.00s\n",
      "Attempt: 0 Time 2.71s\n",
      "Attempt: 0 Time 2.83s\n",
      "Attempt: 0 Time 3.08s\n",
      "Attempt: 0 Time 3.52s\n",
      "Attempt: 0 Time 4.37s\n",
      "Attempt: 0 Time 4.37s\n",
      "Attempt: 0 Time 4.61s\n",
      "Attempt: 0 Time 4.57s\n",
      "Attempt: 0 Time 4.21s\n",
      "Attempt: 0 Time 4.26s\n",
      "Attempt: 0 Time 4.36s\n",
      "Attempt: 0 Time 4.37s\n",
      "Attempt: 0 Time 4.62s\n",
      "Attempt: 0 Time 5.62s\n",
      "Attempt: 0 Time 4.67s\n",
      "Attempt: 0 Time 4.97s\n",
      "Attempt: 0 Time 5.11s\n",
      "Attempt: 0 Time 5.28s\n",
      "Attempt: 0 Time 5.78s\n",
      "Attempt: 0 Time 6.53s\n",
      "Attempt: 0 Time 6.05s\n",
      "Attempt: 0 Time 6.14s\n",
      "Attempt: 0 Time 6.24s\n",
      "Attempt: 0 Time 6.49s\n",
      "Attempt: 0 Time 6.61s\n",
      "Error: Server disconnected without sending a response., retrying... Attempt: 0\n",
      "Attempt: 0 Time 6.65s\n",
      "Attempt: 0 Time 7.17s\n",
      "Attempt: 0 Time 8.01s\n",
      "Attempt: 0 Time 8.00s\n",
      "Attempt: 0 Time 8.01s\n",
      "Attempt: 0 Time 8.01s\n",
      "Attempt: 0 Time 8.50s\n",
      "Attempt: 0 Time 8.57s\n",
      "Attempt: 0 Time 8.63s\n",
      "Attempt: 0 Time 8.63s\n",
      "Attempt: 0 Time 8.68s\n",
      "Attempt: 0 Time 8.78s\n",
      "Attempt: 0 Time 8.78s\n",
      "Error: Server disconnected without sending a response., retrying... Attempt: 0\n",
      "Error: Server disconnected without sending a response., retrying... Attempt: 0\n",
      "Attempt: 0 Time 8.79s\n",
      "Error: Server disconnected without sending a response., retrying... Attempt: 0\n",
      "Error: Server disconnected without sending a response., retrying... Attempt: 0\n",
      "Error: Server disconnected without sending a response., retrying... Attempt: 0\n",
      "Error: Server disconnected without sending a response., retrying... Attempt: 0\n",
      "Attempt: 0 Time 11.01s\n",
      "Attempt: 0 Time 11.01s\n",
      "Attempt: 0 Time 11.19s\n",
      "Attempt: 0 Time 11.37s\n",
      "Attempt: 0 Time 11.71s\n",
      "Attempt: 1 Time 3.92s\n",
      "Attempt: 0 Time 11.98s\n",
      "Error: API error occurred: Status 400\n",
      "{\"object\":\"error\",\"message\":\"Could not parse body - request body did not fit into client body buffer, consider raising 'client_body_buffer_size'\",\"code\":2210,\"type\":\"invalid_request_filter\",\"param\":null}, retrying... Attempt: 1\n",
      "Error: API error occurred: Status 400\n",
      "{\"code\":2210,\"object\":\"error\",\"type\":\"invalid_request_filter\",\"param\":null,\"message\":\"Could not parse body - request body did not fit into client body buffer, consider raising 'client_body_buffer_size'\"}, retrying... Attempt: 1\n",
      "Error: API error occurred: Status 400\n",
      "{\"object\":\"error\",\"message\":\"Could not parse body - request body did not fit into client body buffer, consider raising 'client_body_buffer_size'\",\"code\":2210,\"type\":\"invalid_request_filter\",\"param\":null}, retrying... Attempt: 1\n",
      "Error: API error occurred: Status 400\n",
      "{\"object\":\"error\",\"message\":\"Could not parse body - request body did not fit into client body buffer, consider raising 'client_body_buffer_size'\",\"code\":2210,\"type\":\"invalid_request_filter\",\"param\":null}, retrying... Attempt: 1\n"
     ]
    },
    {
     "ename": "KeyboardInterrupt",
     "evalue": "",
     "output_type": "error",
     "traceback": [
      "\u001b[1;31m---------------------------------------------------------------------------\u001b[0m",
      "\u001b[1;31mKeyboardInterrupt\u001b[0m                         Traceback (most recent call last)",
      "Cell \u001b[1;32mIn[8], line 1\u001b[0m\n\u001b[1;32m----> 1\u001b[0m final_results \u001b[38;5;241m=\u001b[39m \u001b[43masyncio\u001b[49m\u001b[38;5;241;43m.\u001b[39;49m\u001b[43mrun\u001b[49m\u001b[43m(\u001b[49m\u001b[43manalyse_images\u001b[49m\u001b[43m(\u001b[49m\u001b[43mencoded_images\u001b[49m\u001b[43m,\u001b[49m\u001b[43m \u001b[49m\u001b[43mprompts\u001b[49m\u001b[43m)\u001b[49m\u001b[43m)\u001b[49m\n",
      "File \u001b[1;32mc:\\Users\\William\\miniconda3\\envs\\dropout\\lib\\site-packages\\nest_asyncio.py:30\u001b[0m, in \u001b[0;36m_patch_asyncio.<locals>.run\u001b[1;34m(main, debug)\u001b[0m\n\u001b[0;32m     28\u001b[0m task \u001b[38;5;241m=\u001b[39m asyncio\u001b[38;5;241m.\u001b[39mensure_future(main)\n\u001b[0;32m     29\u001b[0m \u001b[38;5;28;01mtry\u001b[39;00m:\n\u001b[1;32m---> 30\u001b[0m     \u001b[38;5;28;01mreturn\u001b[39;00m \u001b[43mloop\u001b[49m\u001b[38;5;241;43m.\u001b[39;49m\u001b[43mrun_until_complete\u001b[49m\u001b[43m(\u001b[49m\u001b[43mtask\u001b[49m\u001b[43m)\u001b[49m\n\u001b[0;32m     31\u001b[0m \u001b[38;5;28;01mfinally\u001b[39;00m:\n\u001b[0;32m     32\u001b[0m     \u001b[38;5;28;01mif\u001b[39;00m \u001b[38;5;129;01mnot\u001b[39;00m task\u001b[38;5;241m.\u001b[39mdone():\n",
      "File \u001b[1;32mc:\\Users\\William\\miniconda3\\envs\\dropout\\lib\\site-packages\\nest_asyncio.py:92\u001b[0m, in \u001b[0;36m_patch_loop.<locals>.run_until_complete\u001b[1;34m(self, future)\u001b[0m\n\u001b[0;32m     90\u001b[0m     f\u001b[38;5;241m.\u001b[39m_log_destroy_pending \u001b[38;5;241m=\u001b[39m \u001b[38;5;28;01mFalse\u001b[39;00m\n\u001b[0;32m     91\u001b[0m \u001b[38;5;28;01mwhile\u001b[39;00m \u001b[38;5;129;01mnot\u001b[39;00m f\u001b[38;5;241m.\u001b[39mdone():\n\u001b[1;32m---> 92\u001b[0m     \u001b[38;5;28;43mself\u001b[39;49m\u001b[38;5;241;43m.\u001b[39;49m\u001b[43m_run_once\u001b[49m\u001b[43m(\u001b[49m\u001b[43m)\u001b[49m\n\u001b[0;32m     93\u001b[0m     \u001b[38;5;28;01mif\u001b[39;00m \u001b[38;5;28mself\u001b[39m\u001b[38;5;241m.\u001b[39m_stopping:\n\u001b[0;32m     94\u001b[0m         \u001b[38;5;28;01mbreak\u001b[39;00m\n",
      "File \u001b[1;32mc:\\Users\\William\\miniconda3\\envs\\dropout\\lib\\site-packages\\nest_asyncio.py:115\u001b[0m, in \u001b[0;36m_patch_loop.<locals>._run_once\u001b[1;34m(self)\u001b[0m\n\u001b[0;32m    108\u001b[0m     heappop(scheduled)\n\u001b[0;32m    110\u001b[0m timeout \u001b[38;5;241m=\u001b[39m (\n\u001b[0;32m    111\u001b[0m     \u001b[38;5;241m0\u001b[39m \u001b[38;5;28;01mif\u001b[39;00m ready \u001b[38;5;129;01mor\u001b[39;00m \u001b[38;5;28mself\u001b[39m\u001b[38;5;241m.\u001b[39m_stopping\n\u001b[0;32m    112\u001b[0m     \u001b[38;5;28;01melse\u001b[39;00m \u001b[38;5;28mmin\u001b[39m(\u001b[38;5;28mmax\u001b[39m(\n\u001b[0;32m    113\u001b[0m         scheduled[\u001b[38;5;241m0\u001b[39m]\u001b[38;5;241m.\u001b[39m_when \u001b[38;5;241m-\u001b[39m \u001b[38;5;28mself\u001b[39m\u001b[38;5;241m.\u001b[39mtime(), \u001b[38;5;241m0\u001b[39m), \u001b[38;5;241m86400\u001b[39m) \u001b[38;5;28;01mif\u001b[39;00m scheduled\n\u001b[0;32m    114\u001b[0m     \u001b[38;5;28;01melse\u001b[39;00m \u001b[38;5;28;01mNone\u001b[39;00m)\n\u001b[1;32m--> 115\u001b[0m event_list \u001b[38;5;241m=\u001b[39m \u001b[38;5;28;43mself\u001b[39;49m\u001b[38;5;241;43m.\u001b[39;49m\u001b[43m_selector\u001b[49m\u001b[38;5;241;43m.\u001b[39;49m\u001b[43mselect\u001b[49m\u001b[43m(\u001b[49m\u001b[43mtimeout\u001b[49m\u001b[43m)\u001b[49m\n\u001b[0;32m    116\u001b[0m \u001b[38;5;28mself\u001b[39m\u001b[38;5;241m.\u001b[39m_process_events(event_list)\n\u001b[0;32m    118\u001b[0m end_time \u001b[38;5;241m=\u001b[39m \u001b[38;5;28mself\u001b[39m\u001b[38;5;241m.\u001b[39mtime() \u001b[38;5;241m+\u001b[39m \u001b[38;5;28mself\u001b[39m\u001b[38;5;241m.\u001b[39m_clock_resolution\n",
      "File \u001b[1;32mc:\\Users\\William\\miniconda3\\envs\\dropout\\lib\\asyncio\\windows_events.py:444\u001b[0m, in \u001b[0;36mIocpProactor.select\u001b[1;34m(self, timeout)\u001b[0m\n\u001b[0;32m    442\u001b[0m \u001b[38;5;28;01mdef\u001b[39;00m \u001b[38;5;21mselect\u001b[39m(\u001b[38;5;28mself\u001b[39m, timeout\u001b[38;5;241m=\u001b[39m\u001b[38;5;28;01mNone\u001b[39;00m):\n\u001b[0;32m    443\u001b[0m     \u001b[38;5;28;01mif\u001b[39;00m \u001b[38;5;129;01mnot\u001b[39;00m \u001b[38;5;28mself\u001b[39m\u001b[38;5;241m.\u001b[39m_results:\n\u001b[1;32m--> 444\u001b[0m         \u001b[38;5;28;43mself\u001b[39;49m\u001b[38;5;241;43m.\u001b[39;49m\u001b[43m_poll\u001b[49m\u001b[43m(\u001b[49m\u001b[43mtimeout\u001b[49m\u001b[43m)\u001b[49m\n\u001b[0;32m    445\u001b[0m     tmp \u001b[38;5;241m=\u001b[39m \u001b[38;5;28mself\u001b[39m\u001b[38;5;241m.\u001b[39m_results\n\u001b[0;32m    446\u001b[0m     \u001b[38;5;28mself\u001b[39m\u001b[38;5;241m.\u001b[39m_results \u001b[38;5;241m=\u001b[39m []\n",
      "File \u001b[1;32mc:\\Users\\William\\miniconda3\\envs\\dropout\\lib\\asyncio\\windows_events.py:797\u001b[0m, in \u001b[0;36mIocpProactor._poll\u001b[1;34m(self, timeout)\u001b[0m\n\u001b[0;32m    794\u001b[0m         \u001b[38;5;28;01mraise\u001b[39;00m \u001b[38;5;167;01mValueError\u001b[39;00m(\u001b[38;5;124m\"\u001b[39m\u001b[38;5;124mtimeout too big\u001b[39m\u001b[38;5;124m\"\u001b[39m)\n\u001b[0;32m    796\u001b[0m \u001b[38;5;28;01mwhile\u001b[39;00m \u001b[38;5;28;01mTrue\u001b[39;00m:\n\u001b[1;32m--> 797\u001b[0m     status \u001b[38;5;241m=\u001b[39m \u001b[43m_overlapped\u001b[49m\u001b[38;5;241;43m.\u001b[39;49m\u001b[43mGetQueuedCompletionStatus\u001b[49m\u001b[43m(\u001b[49m\u001b[38;5;28;43mself\u001b[39;49m\u001b[38;5;241;43m.\u001b[39;49m\u001b[43m_iocp\u001b[49m\u001b[43m,\u001b[49m\u001b[43m \u001b[49m\u001b[43mms\u001b[49m\u001b[43m)\u001b[49m\n\u001b[0;32m    798\u001b[0m     \u001b[38;5;28;01mif\u001b[39;00m status \u001b[38;5;129;01mis\u001b[39;00m \u001b[38;5;28;01mNone\u001b[39;00m:\n\u001b[0;32m    799\u001b[0m         \u001b[38;5;28;01mbreak\u001b[39;00m\n",
      "\u001b[1;31mKeyboardInterrupt\u001b[0m: "
     ]
    }
   ],
   "source": [
    "final_results = asyncio.run(analyse_images(encoded_images, prompts))"
   ]
  },
  {
   "cell_type": "code",
   "execution_count": null,
   "metadata": {},
   "outputs": [
    {
     "ename": "NameError",
     "evalue": "name 'prompts' is not defined",
     "output_type": "error",
     "traceback": [
      "\u001b[1;31m---------------------------------------------------------------------------\u001b[0m",
      "\u001b[1;31mNameError\u001b[0m                                 Traceback (most recent call last)",
      "Cell \u001b[1;32mIn[1], line 2\u001b[0m\n\u001b[0;32m      1\u001b[0m \u001b[38;5;66;03m# final_results\u001b[39;00m\n\u001b[1;32m----> 2\u001b[0m columns \u001b[38;5;241m=\u001b[39m [prompt[\u001b[38;5;124m\"\u001b[39m\u001b[38;5;124mname\u001b[39m\u001b[38;5;124m\"\u001b[39m] \u001b[38;5;28;01mfor\u001b[39;00m prompt \u001b[38;5;129;01min\u001b[39;00m \u001b[43mprompts\u001b[49m]\n\u001b[0;32m      3\u001b[0m rows \u001b[38;5;241m=\u001b[39m [file\u001b[38;5;241m.\u001b[39msplit(\u001b[38;5;124m\"\u001b[39m\u001b[38;5;124m.\u001b[39m\u001b[38;5;124m\"\u001b[39m)[\u001b[38;5;241m0\u001b[39m] \u001b[38;5;28;01mfor\u001b[39;00m file \u001b[38;5;129;01min\u001b[39;00m files]\n\u001b[0;32m      5\u001b[0m \u001b[38;5;28;01mimport\u001b[39;00m \u001b[38;5;21;01mpandas\u001b[39;00m \u001b[38;5;28;01mas\u001b[39;00m \u001b[38;5;21;01mpd\u001b[39;00m\n",
      "\u001b[1;31mNameError\u001b[0m: name 'prompts' is not defined"
     ]
    }
   ],
   "source": [
    "# final_results\n",
    "columns = [prompt[\"name\"] for prompt in prompts]\n",
    "rows = [file.split(\".\")[0] for file in files]\n",
    "\n",
    "import pandas as pd\n",
    "\n",
    "df = pd.DataFrame(final_results, columns=columns, index=rows)\n",
    "print(df)\n"
   ]
  },
  {
   "cell_type": "code",
   "execution_count": null,
   "metadata": {},
   "outputs": [],
   "source": []
  }
 ],
 "metadata": {
  "kernelspec": {
   "display_name": "base",
   "language": "python",
   "name": "python3"
  },
  "language_info": {
   "codemirror_mode": {
    "name": "ipython",
    "version": 3
   },
   "file_extension": ".py",
   "mimetype": "text/x-python",
   "name": "python",
   "nbconvert_exporter": "python",
   "pygments_lexer": "ipython3",
   "version": "3.10.15"
  }
 },
 "nbformat": 4,
 "nbformat_minor": 2
}
