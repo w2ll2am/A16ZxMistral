{
 "cells": [
  {
   "cell_type": "code",
   "execution_count": 1,
   "metadata": {},
   "outputs": [],
   "source": [
    "\n",
    "# !pip install asyncio\n",
    "# !pip install nest-asyncio\n",
    "# !pip install pandas\n",
    "# !pip install tqdm"
   ]
  },
  {
   "cell_type": "code",
   "execution_count": 2,
   "metadata": {},
   "outputs": [],
   "source": [
    "# API_KEY = \"zgJAdEg3lkVxGXyEtM89tOZplOsTi8bv\" # Personal\n",
    "API_KEY = \"pqmKVrIjJjkKQMhvRslPapP7QzNV2A1I\"# Hackathon\n",
    "notebook_dir = \"C:\\\\Users\\\\William\\\\Documents\\\\ML\\\\a16z Hackathon\\\\A16ZxMistral\\\\single_image_test\"\n",
    "image_foler = \"images\"\n",
    "images_dir = f\"{notebook_dir}/{image_foler}\""
   ]
  },
  {
   "cell_type": "code",
   "execution_count": 3,
   "metadata": {},
   "outputs": [],
   "source": [
    "\n",
    "import os\n",
    "from mistralai import Mistral\n",
    "import base64\n",
    "import asyncio\n",
    "import nest_asyncio\n",
    "nest_asyncio.apply()\n",
    "import time\n",
    "from tqdm.notebook import tqdm\n",
    "\n",
    "model = \"pixtral-12b-latest\"\n",
    "client = Mistral(api_key=API_KEY)"
   ]
  },
  {
   "cell_type": "code",
   "execution_count": 4,
   "metadata": {},
   "outputs": [],
   "source": [
    "def encode_image_base64(image_path):\n",
    "  with open(image_path, \"rb\") as image_file:\n",
    "    return base64.b64encode(image_file.read()).decode(\"utf-8\")\n"
   ]
  },
  {
   "cell_type": "code",
   "execution_count": 5,
   "metadata": {},
   "outputs": [],
   "source": [
    "files = os.listdir(images_dir)\n",
    "encoded_images = [encode_image_base64(f\"{images_dir}/{file}\") for file in files]\n",
    "prompt = \"\"\"\"\n",
    "You are an expert at analysing images. Please answer each of these questions by looking at the images. Please return a JSON containing either True or False depending on the answer to the question. Ensure your response only contains a valid JSON without extrenuous formatting e.g. no ```.\n",
    "\n",
    "e.g.\n",
    "{\n",
    "\t\"fire\": \"False\",\n",
    "\t\"smoke\": \"False\",\n",
    "\t\"police\": \"False\",\n",
    "\t\"formations\": \"False\",\n",
    "\t\"crowds\": \"False\",\n",
    "\t\"crush\": \"False\",\n",
    "}\n",
    "\n",
    "fire\n",
    "Is there fire present in the image?\n",
    "\n",
    "smoke\n",
    "Is there smoke present in the image?\n",
    "\n",
    "police\n",
    "Is there any police or law enforcement present in the image?\n",
    "\n",
    "Formations\n",
    "Is there any people orginised in formations e.g. standing in organised lines?\n",
    "\n",
    "crowds\n",
    "Do you see any crowds of people of 20 or more?\n",
    "\n",
    "crush\n",
    "Do you see any dense crowds of more than 60 people, that could be dangerous to vunerable people?\n",
    "\"\"\"\n"
   ]
  },
  {
   "cell_type": "code",
   "execution_count": 6,
   "metadata": {},
   "outputs": [],
   "source": [
    "\n",
    "async def get_pixtral_reponse(encoded_image, prompt):\n",
    "    try_number = 0\n",
    "    while True: \n",
    "        try:\n",
    "            start = time.time()\n",
    "            chat_response = await asyncio.to_thread(\n",
    "                client.chat.complete,  # Run blocking call in a separate thread\n",
    "                model=model,\n",
    "                messages=[\n",
    "                    {\n",
    "                        \"role\": \"user\",\n",
    "                        \"content\": [\n",
    "                            {\n",
    "                                \"type\": \"text\",\n",
    "                                \"text\": f\"{prompt}\"\n",
    "                            },\n",
    "                            {\n",
    "                                \"type\": \"image_url\",\n",
    "                                \"image_url\": f\"data:image/png;base64,{encoded_image}\"\n",
    "                            },\n",
    "                        ]\n",
    "                    },\n",
    "                ]\n",
    "            )\n",
    "            response = chat_response.choices[0].message.content\n",
    "            end = time.time()\n",
    "            print(f\"Attempt: {try_number} Time {end - start:.2f}s\")\n",
    "            break\n",
    "        except Exception as e: \n",
    "            print(f\"Error: {e}, retrying... Attempt: {try_number}\")\n",
    "            try_number += 1\n",
    "            await asyncio.sleep(1)  # Introduce a short delay before retrying\n",
    "    return response\n",
    "\n",
    "async def analyse_images(encoded_images, prompt):\n",
    "    coroutines = [\n",
    "        get_pixtral_reponse(encoded_image, prompt) \n",
    "        for encoded_image in tqdm(encoded_images)\n",
    "    ]\n",
    "    results = await asyncio.gather(*coroutines)\n",
    "    return results"
   ]
  },
  {
   "cell_type": "code",
   "execution_count": 7,
   "metadata": {},
   "outputs": [
    {
     "name": "stdout",
     "output_type": "stream",
     "text": [
      "Attempt: 0 Time 3.54s\n",
      "```json\n",
      "{\n",
      "    \"fire\": \"False\",\n",
      "    \"smoke\": \"False\",\n",
      "    \"police\": \"False\",\n",
      "    \"formations\": \"False\",\n",
      "    \"crowds\": \"True\",\n",
      "    \"crush\": \"True\"\n",
      "}\n",
      "```\n"
     ]
    }
   ],
   "source": [
    "single_result = await get_pixtral_reponse(encoded_images[0], prompt)\n",
    "print(single_result)\n"
   ]
  },
  {
   "cell_type": "code",
   "execution_count": 8,
   "metadata": {},
   "outputs": [
    {
     "data": {
      "application/vnd.jupyter.widget-view+json": {
       "model_id": "02b7e876228c42b6b3f9ff812d457bba",
       "version_major": 2,
       "version_minor": 0
      },
      "text/plain": [
       "  0%|          | 0/9 [00:00<?, ?it/s]"
      ]
     },
     "metadata": {},
     "output_type": "display_data"
    },
    {
     "name": "stdout",
     "output_type": "stream",
     "text": [
      "Error: Server disconnected without sending a response., retrying... Attempt: 0\n",
      "Error: Server disconnected without sending a response., retrying... Attempt: 0\n",
      "Error: Server disconnected without sending a response., retrying... Attempt: 0\n",
      "Error: API error occurred: Status 429\n",
      "{\"message\":\"Requests rate limit exceeded\"}, retrying... Attempt: 0\n",
      "Error: [SSL: SSLV3_ALERT_BAD_RECORD_MAC] sslv3 alert bad record mac (_ssl.c:2578), retrying... Attempt: 0\n",
      "Error: API error occurred: Status 429\n",
      "{\"message\":\"Requests rate limit exceeded\"}, retrying... Attempt: 0\n",
      "Error: API error occurred: Status 429\n",
      "{\"message\":\"Requests rate limit exceeded\"}, retrying... Attempt: 0\n",
      "Error: [SSL: SSLV3_ALERT_BAD_RECORD_MAC] sslv3 alert bad record mac (_ssl.c:2578), retrying... Attempt: 1\n",
      "Error: Server disconnected without sending a response., retrying... Attempt: 1\n",
      "Attempt: 0 Time 2.66s\n",
      "Error: Server disconnected without sending a response., retrying... Attempt: 1\n",
      "Error: Server disconnected without sending a response., retrying... Attempt: 1\n",
      "Error: Server disconnected without sending a response., retrying... Attempt: 1\n",
      "Error: Server disconnected without sending a response., retrying... Attempt: 2\n",
      "Error: API error occurred: Status 429\n",
      "{\"message\":\"Requests rate limit exceeded\"}, retrying... Attempt: 1\n",
      "Attempt: 0 Time 3.26s\n",
      "Error: Server disconnected without sending a response., retrying... Attempt: 2\n",
      "Error: Server disconnected without sending a response., retrying... Attempt: 2\n",
      "Error: Server disconnected without sending a response., retrying... Attempt: 2\n",
      "Error: Server disconnected without sending a response., retrying... Attempt: 2\n",
      "Error: Server disconnected without sending a response., retrying... Attempt: 3\n",
      "Attempt: 1 Time 3.36s\n",
      "Error: Server disconnected without sending a response., retrying... Attempt: 3\n",
      "Error: Server disconnected without sending a response., retrying... Attempt: 3\n",
      "Error: Server disconnected without sending a response., retrying... Attempt: 3\n",
      "Error: Server disconnected without sending a response., retrying... Attempt: 4\n",
      "Error: Server disconnected without sending a response., retrying... Attempt: 3\n",
      "Error: Server disconnected without sending a response., retrying... Attempt: 4\n",
      "Attempt: 2 Time 3.17s\n",
      "Error: Server disconnected without sending a response., retrying... Attempt: 4\n",
      "Error: Server disconnected without sending a response., retrying... Attempt: 4\n",
      "Error: Server disconnected without sending a response., retrying... Attempt: 4\n",
      "Error: Server disconnected without sending a response., retrying... Attempt: 5\n",
      "Error: Server disconnected without sending a response., retrying... Attempt: 5\n",
      "Error: Server disconnected without sending a response., retrying... Attempt: 6\n",
      "Error: Server disconnected without sending a response., retrying... Attempt: 5\n",
      "Error: Server disconnected without sending a response., retrying... Attempt: 5\n",
      "Error: Server disconnected without sending a response., retrying... Attempt: 6\n",
      "Error: Server disconnected without sending a response., retrying... Attempt: 7\n",
      "Error: Server disconnected without sending a response., retrying... Attempt: 6\n",
      "Error: [SSL: SSLV3_ALERT_BAD_RECORD_MAC] sslv3 alert bad record mac (_ssl.c:2578), retrying... Attempt: 7\n",
      "Error: Server disconnected without sending a response., retrying... Attempt: 6\n",
      "Attempt: 5 Time 3.16s\n",
      "Error: Server disconnected without sending a response., retrying... Attempt: 8\n",
      "Error: Server disconnected without sending a response., retrying... Attempt: 7\n",
      "Error: Server disconnected without sending a response., retrying... Attempt: 8\n",
      "Error: Server disconnected without sending a response., retrying... Attempt: 7\n",
      "Error: Server disconnected without sending a response., retrying... Attempt: 9\n",
      "Error: Server disconnected without sending a response., retrying... Attempt: 8\n",
      "Error: Server disconnected without sending a response., retrying... Attempt: 9\n",
      "Error: Server disconnected without sending a response., retrying... Attempt: 8\n",
      "Error: Server disconnected without sending a response., retrying... Attempt: 10\n",
      "Error: Server disconnected without sending a response., retrying... Attempt: 9\n",
      "Error: Server disconnected without sending a response., retrying... Attempt: 10\n",
      "Error: Server disconnected without sending a response., retrying... Attempt: 9\n",
      "Error: Server disconnected without sending a response., retrying... Attempt: 11\n",
      "Error: Server disconnected without sending a response., retrying... Attempt: 10\n",
      "Error: Server disconnected without sending a response., retrying... Attempt: 11\n",
      "Error: Server disconnected without sending a response., retrying... Attempt: 12\n",
      "Error: Server disconnected without sending a response., retrying... Attempt: 11\n",
      "Error: Server disconnected without sending a response., retrying... Attempt: 10\n",
      "Error: Server disconnected without sending a response., retrying... Attempt: 12\n",
      "Error: Server disconnected without sending a response., retrying... Attempt: 11\n",
      "Attempt: 12 Time 3.84s\n",
      "Error: Server disconnected without sending a response., retrying... Attempt: 13\n",
      "Error: Server disconnected without sending a response., retrying... Attempt: 12\n",
      "Attempt: 13 Time 3.32s\n",
      "Error: Server disconnected without sending a response., retrying... Attempt: 14\n",
      "Error: Server disconnected without sending a response., retrying... Attempt: 15\n",
      "Error: Server disconnected without sending a response., retrying... Attempt: 13\n"
     ]
    }
   ],
   "source": [
    "final_results = asyncio.run(analyse_images(encoded_images, prompt))"
   ]
  },
  {
   "cell_type": "code",
   "execution_count": null,
   "metadata": {},
   "outputs": [
    {
     "ename": "ValueError",
     "evalue": "Shape of passed values is (54, 1), indices imply (9, 6)",
     "output_type": "error",
     "traceback": [
      "\u001b[1;31m---------------------------------------------------------------------------\u001b[0m",
      "\u001b[1;31mValueError\u001b[0m                                Traceback (most recent call last)",
      "Cell \u001b[1;32mIn[10], line 7\u001b[0m\n\u001b[0;32m      3\u001b[0m rows \u001b[38;5;241m=\u001b[39m [file\u001b[38;5;241m.\u001b[39msplit(\u001b[38;5;124m\"\u001b[39m\u001b[38;5;124m.\u001b[39m\u001b[38;5;124m\"\u001b[39m)[\u001b[38;5;241m0\u001b[39m] \u001b[38;5;28;01mfor\u001b[39;00m file \u001b[38;5;129;01min\u001b[39;00m files]\n\u001b[0;32m      5\u001b[0m \u001b[38;5;28;01mimport\u001b[39;00m \u001b[38;5;21;01mpandas\u001b[39;00m \u001b[38;5;28;01mas\u001b[39;00m \u001b[38;5;21;01mpd\u001b[39;00m\n\u001b[1;32m----> 7\u001b[0m df \u001b[38;5;241m=\u001b[39m \u001b[43mpd\u001b[49m\u001b[38;5;241;43m.\u001b[39;49m\u001b[43mDataFrame\u001b[49m\u001b[43m(\u001b[49m\u001b[43mfinal_results\u001b[49m\u001b[43m,\u001b[49m\u001b[43m \u001b[49m\u001b[43mcolumns\u001b[49m\u001b[38;5;241;43m=\u001b[39;49m\u001b[43mcolumns\u001b[49m\u001b[43m,\u001b[49m\u001b[43m \u001b[49m\u001b[43mindex\u001b[49m\u001b[38;5;241;43m=\u001b[39;49m\u001b[43mrows\u001b[49m\u001b[43m)\u001b[49m\n\u001b[0;32m      8\u001b[0m \u001b[38;5;28mprint\u001b[39m(df)\n",
      "File \u001b[1;32mc:\\Users\\William\\miniconda3\\envs\\dropout\\lib\\site-packages\\pandas\\core\\frame.py:867\u001b[0m, in \u001b[0;36mDataFrame.__init__\u001b[1;34m(self, data, index, columns, dtype, copy)\u001b[0m\n\u001b[0;32m    859\u001b[0m         mgr \u001b[38;5;241m=\u001b[39m arrays_to_mgr(\n\u001b[0;32m    860\u001b[0m             arrays,\n\u001b[0;32m    861\u001b[0m             columns,\n\u001b[1;32m   (...)\u001b[0m\n\u001b[0;32m    864\u001b[0m             typ\u001b[38;5;241m=\u001b[39mmanager,\n\u001b[0;32m    865\u001b[0m         )\n\u001b[0;32m    866\u001b[0m     \u001b[38;5;28;01melse\u001b[39;00m:\n\u001b[1;32m--> 867\u001b[0m         mgr \u001b[38;5;241m=\u001b[39m \u001b[43mndarray_to_mgr\u001b[49m\u001b[43m(\u001b[49m\n\u001b[0;32m    868\u001b[0m \u001b[43m            \u001b[49m\u001b[43mdata\u001b[49m\u001b[43m,\u001b[49m\n\u001b[0;32m    869\u001b[0m \u001b[43m            \u001b[49m\u001b[43mindex\u001b[49m\u001b[43m,\u001b[49m\n\u001b[0;32m    870\u001b[0m \u001b[43m            \u001b[49m\u001b[43mcolumns\u001b[49m\u001b[43m,\u001b[49m\n\u001b[0;32m    871\u001b[0m \u001b[43m            \u001b[49m\u001b[43mdtype\u001b[49m\u001b[38;5;241;43m=\u001b[39;49m\u001b[43mdtype\u001b[49m\u001b[43m,\u001b[49m\n\u001b[0;32m    872\u001b[0m \u001b[43m            \u001b[49m\u001b[43mcopy\u001b[49m\u001b[38;5;241;43m=\u001b[39;49m\u001b[43mcopy\u001b[49m\u001b[43m,\u001b[49m\n\u001b[0;32m    873\u001b[0m \u001b[43m            \u001b[49m\u001b[43mtyp\u001b[49m\u001b[38;5;241;43m=\u001b[39;49m\u001b[43mmanager\u001b[49m\u001b[43m,\u001b[49m\n\u001b[0;32m    874\u001b[0m \u001b[43m        \u001b[49m\u001b[43m)\u001b[49m\n\u001b[0;32m    875\u001b[0m \u001b[38;5;28;01melse\u001b[39;00m:\n\u001b[0;32m    876\u001b[0m     mgr \u001b[38;5;241m=\u001b[39m dict_to_mgr(\n\u001b[0;32m    877\u001b[0m         {},\n\u001b[0;32m    878\u001b[0m         index,\n\u001b[1;32m   (...)\u001b[0m\n\u001b[0;32m    881\u001b[0m         typ\u001b[38;5;241m=\u001b[39mmanager,\n\u001b[0;32m    882\u001b[0m     )\n",
      "File \u001b[1;32mc:\\Users\\William\\miniconda3\\envs\\dropout\\lib\\site-packages\\pandas\\core\\internals\\construction.py:336\u001b[0m, in \u001b[0;36mndarray_to_mgr\u001b[1;34m(values, index, columns, dtype, copy, typ)\u001b[0m\n\u001b[0;32m    331\u001b[0m \u001b[38;5;66;03m# _prep_ndarraylike ensures that values.ndim == 2 at this point\u001b[39;00m\n\u001b[0;32m    332\u001b[0m index, columns \u001b[38;5;241m=\u001b[39m _get_axes(\n\u001b[0;32m    333\u001b[0m     values\u001b[38;5;241m.\u001b[39mshape[\u001b[38;5;241m0\u001b[39m], values\u001b[38;5;241m.\u001b[39mshape[\u001b[38;5;241m1\u001b[39m], index\u001b[38;5;241m=\u001b[39mindex, columns\u001b[38;5;241m=\u001b[39mcolumns\n\u001b[0;32m    334\u001b[0m )\n\u001b[1;32m--> 336\u001b[0m \u001b[43m_check_values_indices_shape_match\u001b[49m\u001b[43m(\u001b[49m\u001b[43mvalues\u001b[49m\u001b[43m,\u001b[49m\u001b[43m \u001b[49m\u001b[43mindex\u001b[49m\u001b[43m,\u001b[49m\u001b[43m \u001b[49m\u001b[43mcolumns\u001b[49m\u001b[43m)\u001b[49m\n\u001b[0;32m    338\u001b[0m \u001b[38;5;28;01mif\u001b[39;00m typ \u001b[38;5;241m==\u001b[39m \u001b[38;5;124m\"\u001b[39m\u001b[38;5;124marray\u001b[39m\u001b[38;5;124m\"\u001b[39m:\n\u001b[0;32m    339\u001b[0m     \u001b[38;5;28;01mif\u001b[39;00m \u001b[38;5;28missubclass\u001b[39m(values\u001b[38;5;241m.\u001b[39mdtype\u001b[38;5;241m.\u001b[39mtype, \u001b[38;5;28mstr\u001b[39m):\n",
      "File \u001b[1;32mc:\\Users\\William\\miniconda3\\envs\\dropout\\lib\\site-packages\\pandas\\core\\internals\\construction.py:420\u001b[0m, in \u001b[0;36m_check_values_indices_shape_match\u001b[1;34m(values, index, columns)\u001b[0m\n\u001b[0;32m    418\u001b[0m passed \u001b[38;5;241m=\u001b[39m values\u001b[38;5;241m.\u001b[39mshape\n\u001b[0;32m    419\u001b[0m implied \u001b[38;5;241m=\u001b[39m (\u001b[38;5;28mlen\u001b[39m(index), \u001b[38;5;28mlen\u001b[39m(columns))\n\u001b[1;32m--> 420\u001b[0m \u001b[38;5;28;01mraise\u001b[39;00m \u001b[38;5;167;01mValueError\u001b[39;00m(\u001b[38;5;124mf\u001b[39m\u001b[38;5;124m\"\u001b[39m\u001b[38;5;124mShape of passed values is \u001b[39m\u001b[38;5;132;01m{\u001b[39;00mpassed\u001b[38;5;132;01m}\u001b[39;00m\u001b[38;5;124m, indices imply \u001b[39m\u001b[38;5;132;01m{\u001b[39;00mimplied\u001b[38;5;132;01m}\u001b[39;00m\u001b[38;5;124m\"\u001b[39m)\n",
      "\u001b[1;31mValueError\u001b[0m: Shape of passed values is (54, 1), indices imply (9, 6)"
     ]
    }
   ],
   "source": [
    "# final_results\n",
    "columns = [prompt[\"name\"] for prompt in prompts]\n",
    "rows = [file.split(\".\")[0] for file in files]\n",
    "\n",
    "import pandas as pd\n",
    "\n",
    "df = pd.DataFrame(final_results, columns=columns, index=rows)\n",
    "print(df)\n"
   ]
  },
  {
   "cell_type": "code",
   "execution_count": null,
   "metadata": {},
   "outputs": [],
   "source": []
  }
 ],
 "metadata": {
  "kernelspec": {
   "display_name": "base",
   "language": "python",
   "name": "python3"
  },
  "language_info": {
   "codemirror_mode": {
    "name": "ipython",
    "version": 3
   },
   "file_extension": ".py",
   "mimetype": "text/x-python",
   "name": "python",
   "nbconvert_exporter": "python",
   "pygments_lexer": "ipython3",
   "version": "3.10.15"
  }
 },
 "nbformat": 4,
 "nbformat_minor": 2
}
