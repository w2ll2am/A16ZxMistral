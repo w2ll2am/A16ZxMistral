{
 "cells": [
  {
   "cell_type": "code",
   "execution_count": 1,
   "metadata": {},
   "outputs": [],
   "source": [
    "API_KEY = \"pqmKVrIjJjkKQMhvRslPapP7QzNV2A1I\"\n",
    "\n",
    "\n",
    "import os\n",
    "from mistralai import Mistral\n"
   ]
  },
  {
   "cell_type": "code",
   "execution_count": 1,
   "metadata": {},
   "outputs": [],
   "source": [
    "def encode_image_base64(image_path):\n",
    " with open(image_path, \"rb\") as image_file:\n",
    "   return base64.b64encode(image_file.read()).decode(\"utf-8\")"
   ]
  },
  {
   "cell_type": "code",
   "execution_count": null,
   "metadata": {},
   "outputs": [],
   "source": [
    "list_image = encode_image_base64(\"./todo-list.jpeg\")\n",
    "new_item_image = encode_image_base64(\"./new-item-form.jpeg\")\n",
    "\n",
    "chat_response = client.chat.complete(\n",
    " model=model,\n",
    " messages = [\n",
    "   {\n",
    "     \"role\": \"user\",\n",
    "     \"content\": [\n",
    "       {\n",
    "         \"type\": \"text\",\n",
    "         \"text\": \"Create a HTML website with two pages like in the images\"\n",
    "       },\n",
    "       {\n",
    "         \"type\": \"image_url\",\n",
    "         \"image_url\": f\"data:image/jpeg;base64,{list_image}\"\n",
    "       },\n",
    "       {\n",
    "         \"type\": \"image_url\",\n",
    "         \"image_url\": f\"data:image/jpeg;base64,{new_item_image}\"\n",
    "       },      \n",
    "     ]\n",
    "   },\n",
    " ]\n",
    ")\n",
    "print(chat_response.choices[0].message.content)"
   ]
  }
 ],
 "metadata": {
  "kernelspec": {
   "display_name": "base",
   "language": "python",
   "name": "python3"
  },
  "language_info": {
   "codemirror_mode": {
    "name": "ipython",
    "version": 3
   },
   "file_extension": ".py",
   "mimetype": "text/x-python",
   "name": "python",
   "nbconvert_exporter": "python",
   "pygments_lexer": "ipython3",
   "version": "3.10.15"
  }
 },
 "nbformat": 4,
 "nbformat_minor": 2
}
